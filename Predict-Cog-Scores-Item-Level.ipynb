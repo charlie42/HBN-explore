{
 "cells": [
  {
   "cell_type": "code",
   "execution_count": 1,
   "id": "4d2c51a9",
   "metadata": {},
   "outputs": [],
   "source": [
    "MODELS_FROM_FILE = 1\n",
    "IMPORTANCES_FROM_FILE = 0\n",
    "\n",
    "import pandas as pd\n",
    "import numpy as np\n",
    "from sklearn.model_selection import train_test_split\n",
    "from sklearn.model_selection import StratifiedKFold\n",
    "from sklearn.model_selection import cross_val_score, cross_val_predict, cross_validate\n",
    "\n",
    "from sklearn.tree import DecisionTreeRegressor\n",
    "from sklearn.ensemble import RandomForestRegressor\n",
    "from sklearn import svm\n",
    "from sklearn.linear_model import ElasticNet\n",
    "\n",
    "from sklearn.impute import SimpleImputer\n",
    "from sklearn.preprocessing import StandardScaler\n",
    "from sklearn.feature_selection import VarianceThreshold\n",
    "from sklearn.feature_selection import SelectKBest, mutual_info_classif, f_classif\n",
    "\n",
    "from sklearn.pipeline import make_pipeline\n",
    "\n",
    "from sklearn.metrics import confusion_matrix, plot_confusion_matrix, recall_score, precision_score, balanced_accuracy_score, f1_score, roc_auc_score, fbeta_score, make_scorer, roc_curve, precision_recall_curve, accuracy_score, r2_score, mean_absolute_error\n",
    "from sklearn.metrics import PrecisionRecallDisplay, ConfusionMatrixDisplay\n",
    "import matplotlib.pyplot as plt\n",
    "\n",
    "from sklearn.model_selection import GridSearchCV, RandomizedSearchCV\n",
    "\n",
    "    \n",
    "pd.set_option(\"display.max_columns\", None)\n",
    "pd.set_option('max_colwidth', None)\n",
    "\n",
    "\n",
    "data_intermediate_dir = \"data/intermediate/\"\n",
    "item_lvl_w_imp = pd.read_csv(data_intermediate_dir + \"item_lvl_w_impairment.csv\")\n",
    "\n",
    "# Prepare input and ouptut column names\n",
    "\n",
    "output_cols = [x for x in item_lvl_w_imp.columns if x.startswith(\"WIAT\") or x.startswith(\"WISC\")] # All WISC and WIAT columns\n",
    "\n",
    "input_cols = [x for x in item_lvl_w_imp.columns if \n",
    "                       not x.startswith(\"Diag: \") \n",
    "                       and not x.startswith(\"WIAT\")\n",
    "                       and not x.startswith(\"WISC\")] # Input columns are all columns except Diagnosis, WIAT, and WISC\n",
    "\n",
    "# Separate test set for all output columns\n",
    "\n",
    "# Shuffle the dataset \n",
    "shuffle_df = item_lvl_w_imp.sample(frac=1)\n",
    "\n",
    "# Define a size for the train set \n",
    "train_size = int(0.7 * len(item_lvl_w_imp))\n",
    "\n",
    "# Split the dataset \n",
    "train_set = shuffle_df[:train_size]\n",
    "test_set = shuffle_df[train_size:] # Don't touch this until the end\n",
    "\n",
    "# Train_train and Validation set\n",
    "# Define a size for your train_train set \n",
    "train_train_size = int(0.7 * len(train_set))\n",
    "\n",
    "# Split your dataset \n",
    "train_train_set = train_set[:train_train_size]\n",
    "val_set = train_set[train_train_size:]"
   ]
  },
  {
   "cell_type": "code",
   "execution_count": 2,
   "id": "b77df831",
   "metadata": {},
   "outputs": [],
   "source": [
    "def get_base_models_and_param_grids():\n",
    "    \n",
    "    # Define base models\n",
    "    dt = DecisionTreeRegressor()\n",
    "    rf = RandomForestRegressor()\n",
    "    svr = svm.SVR()\n",
    "    en = ElasticNet()\n",
    "    \n",
    "    # Impute missing values\n",
    "    imputer = SimpleImputer(missing_values=np.nan, strategy='median')\n",
    "    \n",
    "    # Standardize data\n",
    "    scaler = StandardScaler()\n",
    "\n",
    "    # Make pipelines\n",
    "    dt_pipe = make_pipeline(imputer, scaler, dt)\n",
    "    rf_pipe = make_pipeline(imputer, scaler, rf)\n",
    "    svr_pipe = make_pipeline(imputer, scaler, svr)\n",
    "    en_pipe = make_pipeline(imputer, scaler, en)\n",
    "    \n",
    "    # Define parameter grids to search for each pipe\n",
    "    from scipy.stats import loguniform, uniform\n",
    "    dt_param_grid = {\n",
    "        \"decisiontreeregressor__splitter\": [\"best\",\"random\"],\n",
    "        \"decisiontreeregressor__min_samples_split\": np.random.randint(2, 20, 30),\n",
    "        \"decisiontreeregressor__max_depth\": np.random.randint(1, 30, 30),\n",
    "        \"decisiontreeregressor__min_samples_leaf\": np.random.randint(1, 20, 30),\n",
    "        \"decisiontreeregressor__max_leaf_nodes\": np.random.randint(2, 50, 30)\n",
    "    }\n",
    "    rf_param_grid = {\n",
    "        'randomforestregressor__max_depth': np.random.randint(5, 150, 30),\n",
    "        'randomforestregressor__min_samples_split': np.random.randint(2, 50, 30),\n",
    "        'randomforestregressor__n_estimators': np.random.randint(50, 400, 10),\n",
    "        'randomforestregressor__min_samples_leaf': np.random.randint(1, 20, 30),\n",
    "        'randomforestregressor__max_features': ['auto', 'sqrt', 'log2', 0.25, 0.5, 0.75, 1.0]\n",
    "    }\n",
    "    svr_param_grid = {\n",
    "        'svr__C': loguniform(1e-03, 1e+02),\n",
    "        'svr__gamma': loguniform(1e-03, 1e+02),\n",
    "        'svr__degree': uniform(2, 5),\n",
    "        'svr__epsilon': loguniform(1e-03,1),\n",
    "        'svr__kernel': ['linear', 'poly', 'rbf', 'sigmoid']\n",
    "    }\n",
    "    en_param_grid = {\n",
    "        'elasticnet__alpha': loguniform(1e-5, 100),\n",
    "        'elasticnet__l1_ratio': uniform(0, 1)\n",
    "    }\n",
    "    \n",
    "    base_models_and_param_grids = [\n",
    "        (dt_pipe, dt_param_grid),\n",
    "        (rf_pipe, rf_param_grid),\n",
    "        (svr_pipe, svr_param_grid),\n",
    "        (en_pipe, en_param_grid),\n",
    "    ]\n",
    "    \n",
    "    return base_models_and_param_grids\n",
    "\n",
    "def get_best_classifier(base_model, grid, output_col):\n",
    "    rs = RandomizedSearchCV(estimator=base_model, param_distributions=grid, cv=3, scoring=\"r2\", n_iter=100, n_jobs = -1)\n",
    "    \n",
    "    rs.fit(train_set[input_cols], train_set[output_col]) # On train_set, not train_train_set because do cross-validation\n",
    "    \n",
    "    best_estimator = rs.best_estimator_\n",
    "    best_score = rs.best_score_\n",
    "    \n",
    "    return (best_estimator, best_score)"
   ]
  },
  {
   "cell_type": "code",
   "execution_count": 3,
   "id": "23d1fd83",
   "metadata": {},
   "outputs": [],
   "source": [
    "def find_best_estimator_for_output(output_col):\n",
    "    best_score = 0\n",
    "    best_classifier = None\n",
    "    base_models_and_param_grids = get_base_models_and_param_grids()\n",
    "    for (base_model, grid) in base_models_and_param_grids:\n",
    "        best_classifier_for_model, best_score_for_model = get_best_classifier(base_model, grid, output_col)\n",
    "        if best_score_for_model > best_score:\n",
    "            best_classifier = best_classifier_for_model\n",
    "            best_score = best_score_for_model\n",
    "    return best_classifier"
   ]
  },
  {
   "cell_type": "code",
   "execution_count": 4,
   "id": "f72f4253",
   "metadata": {},
   "outputs": [],
   "source": [
    "if MODELS_FROM_FILE == 0:\n",
    "    best_estimators = {}\n",
    "    for output in output_cols:\n",
    "        best_estimator_for_output = find_best_estimator_for_output(output)\n",
    "        best_estimators[output] = best_estimator_for_output\n",
    "        print(\"Best estimator for \", output, \": \", best_estimators[output])"
   ]
  },
  {
   "cell_type": "code",
   "execution_count": 5,
   "id": "842de750",
   "metadata": {},
   "outputs": [],
   "source": [
    "from joblib import dump, load\n",
    "if MODELS_FROM_FILE == 0:\n",
    "    # Save best estimators - best parameters, and the estimator objects themselves\n",
    "    best_estimators_df = pd.DataFrame([best_estimators]).T.reset_index()\n",
    "    best_estimators_df.columns = [\"Output\", \"Best Estimator\"]\n",
    "    display(best_estimators_df)\n",
    "    best_estimators_df.to_csv(\"best-estimators-cog-scores-item-lvl.csv\")\n",
    "\n",
    "    dump(best_estimators, 'best-estimators-cog-scores-item-lvl.joblib', compress=1)"
   ]
  },
  {
   "cell_type": "code",
   "execution_count": 6,
   "id": "183587c3",
   "metadata": {},
   "outputs": [],
   "source": [
    "if MODELS_FROM_FILE == 1:\n",
    "    best_estimators = load('best-estimators-cog-scores-item-lvl.joblib')"
   ]
  },
  {
   "cell_type": "code",
   "execution_count": 7,
   "id": "cadec0b8",
   "metadata": {},
   "outputs": [],
   "source": [
    "metric_names = ['r2', 'MAE', 'Target Score Range (for MAE interpretation)']   \n",
    "\n",
    "def get_min_max_for_mae_interpretation(output_col):\n",
    "    return (item_lvl_w_imp[output_col].min(), item_lvl_w_imp[output_col].max())\n",
    "\n",
    "def get_metrics(estimator, output_col, input_cols, validation_or_test = \"validation\", print_output_flag = 0):\n",
    "    input_cols = input_cols\n",
    "    \n",
    "    if validation_or_test == \"test\":\n",
    "        x = test_set[input_cols]\n",
    "        y = test_set[output_col]\n",
    "    else: \n",
    "        x = val_set[input_cols]\n",
    "        y = val_set[output_col]\n",
    "        \n",
    "    y_pred = estimator.predict(x)\n",
    "    \n",
    "    metrics = []\n",
    "    r2 = r2_score(y, y_pred)\n",
    "    mae = mean_absolute_error(y, y_pred)\n",
    "    target_score_range = str(get_min_max_for_mae_interpretation(output_col))\n",
    "    metrics += [r2, mae, target_score_range]\n",
    "    \n",
    "    if print_output_flag:\n",
    "        print(output_col)\n",
    "        print(\"r2: \", r2)\n",
    "        \n",
    "        plt.scatter(y, y_pred)\n",
    "        plt.xlim(get_min_max_for_mae_interpretation(output_col)[0], get_min_max_for_mae_interpretation(output_col)[1])\n",
    "        plt.ylim(get_min_max_for_mae_interpretation(output_col)[0], get_min_max_for_mae_interpretation(output_col)[1])\n",
    "        plt.show()\n",
    "        \n",
    "    return metrics"
   ]
  },
  {
   "cell_type": "code",
   "execution_count": 9,
   "id": "f1565fd9",
   "metadata": {
    "scrolled": false
   },
   "outputs": [
    {
     "name": "stdout",
     "output_type": "stream",
     "text": [
      "WIAT,WIAT_Num_Stnd\n",
      "WIAT,WIAT_Word_Stnd\n",
      "WISC,WISC_Coding_Scaled\n",
      "WISC,WISC_FSIQ\n",
      "WISC,WISC_SS_Scaled\n"
     ]
    },
    {
     "data": {
      "text/html": [
       "<div>\n",
       "<style scoped>\n",
       "    .dataframe tbody tr th:only-of-type {\n",
       "        vertical-align: middle;\n",
       "    }\n",
       "\n",
       "    .dataframe tbody tr th {\n",
       "        vertical-align: top;\n",
       "    }\n",
       "\n",
       "    .dataframe thead th {\n",
       "        text-align: right;\n",
       "    }\n",
       "</style>\n",
       "<table border=\"1\" class=\"dataframe\">\n",
       "  <thead>\n",
       "    <tr style=\"text-align: right;\">\n",
       "      <th></th>\n",
       "      <th>Output</th>\n",
       "      <th>Mean R2</th>\n",
       "      <th>Std R2</th>\n",
       "      <th>Mean MAE</th>\n",
       "      <th>Std MAE</th>\n",
       "      <th>Target Score Range (for MAE interpretation)</th>\n",
       "    </tr>\n",
       "  </thead>\n",
       "  <tbody>\n",
       "    <tr>\n",
       "      <th>0</th>\n",
       "      <td>WIAT,WIAT_Num_Stnd</td>\n",
       "      <td>0.186983</td>\n",
       "      <td>0.022647</td>\n",
       "      <td>11.747814</td>\n",
       "      <td>0.491967</td>\n",
       "      <td>(46.0, 160.0)</td>\n",
       "    </tr>\n",
       "    <tr>\n",
       "      <th>1</th>\n",
       "      <td>WIAT,WIAT_Word_Stnd</td>\n",
       "      <td>0.267792</td>\n",
       "      <td>0.040093</td>\n",
       "      <td>11.411954</td>\n",
       "      <td>0.525649</td>\n",
       "      <td>(40.0, 153.0)</td>\n",
       "    </tr>\n",
       "    <tr>\n",
       "      <th>2</th>\n",
       "      <td>WISC,WISC_Coding_Scaled</td>\n",
       "      <td>0.152159</td>\n",
       "      <td>0.029939</td>\n",
       "      <td>2.226408</td>\n",
       "      <td>0.064108</td>\n",
       "      <td>(1.0, 19.0)</td>\n",
       "    </tr>\n",
       "    <tr>\n",
       "      <th>3</th>\n",
       "      <td>WISC,WISC_FSIQ</td>\n",
       "      <td>0.411034</td>\n",
       "      <td>0.048611</td>\n",
       "      <td>10.024136</td>\n",
       "      <td>0.468277</td>\n",
       "      <td>(47.0, 147.0)</td>\n",
       "    </tr>\n",
       "    <tr>\n",
       "      <th>4</th>\n",
       "      <td>WISC,WISC_SS_Scaled</td>\n",
       "      <td>0.102026</td>\n",
       "      <td>0.045433</td>\n",
       "      <td>2.293444</td>\n",
       "      <td>0.044528</td>\n",
       "      <td>(1.0, 19.0)</td>\n",
       "    </tr>\n",
       "  </tbody>\n",
       "</table>\n",
       "</div>"
      ],
      "text/plain": [
       "                    Output   Mean R2    Std R2   Mean MAE   Std MAE  \\\n",
       "0       WIAT,WIAT_Num_Stnd  0.186983  0.022647  11.747814  0.491967   \n",
       "1      WIAT,WIAT_Word_Stnd  0.267792  0.040093  11.411954  0.525649   \n",
       "2  WISC,WISC_Coding_Scaled  0.152159  0.029939   2.226408  0.064108   \n",
       "3           WISC,WISC_FSIQ  0.411034  0.048611  10.024136  0.468277   \n",
       "4      WISC,WISC_SS_Scaled  0.102026  0.045433   2.293444  0.044528   \n",
       "\n",
       "  Target Score Range (for MAE interpretation)  \n",
       "0                               (46.0, 160.0)  \n",
       "1                               (40.0, 153.0)  \n",
       "2                                 (1.0, 19.0)  \n",
       "3                               (47.0, 147.0)  \n",
       "4                                 (1.0, 19.0)  "
      ]
     },
     "metadata": {},
     "output_type": "display_data"
    }
   ],
   "source": [
    "# Check cross-validation performance of the final model on validation set for all models\n",
    "def plot_test_vs_train_scores(cv_results):\n",
    "    scores = pd.DataFrame(cv_results)[[\"test_score\", \"train_score\"]]\n",
    "    display(scores)\n",
    "    scores.plot.hist(bins=50)\n",
    "    plt.xlim(0, 1)\n",
    "    plt.show()\n",
    "\n",
    "results_val_set = []\n",
    "for output in output_cols:\n",
    "    print(output)\n",
    "    estimator = best_estimators[output]\n",
    "    r2_cv_results = cross_validate(estimator, train_set[input_cols], train_set[output], return_train_score = True, scoring=\"r2\")\n",
    "    r2_scores = [np.mean(r2_cv_results[\"test_score\"]), np.std(r2_cv_results[\"test_score\"])]\n",
    "    mae_cv_results = cross_validate(estimator, train_set[input_cols], train_set[output], return_train_score = True, scoring=\"neg_mean_absolute_error\")\n",
    "    mae_scores = [np.mean(-mae_cv_results[\"test_score\"]), np.std(-mae_cv_results[\"test_score\"])]\n",
    "    results_val_set.append([\n",
    "        output, \n",
    "        *r2_scores,\n",
    "        *mae_scores,\n",
    "        get_min_max_for_mae_interpretation(output)])\n",
    "    \n",
    "    #plot_test_vs_train_scores(mae_cv_results)\n",
    "restults_val_set_df = pd.DataFrame(results_val_set, columns=[\"Output\"] + [\"Mean R2\", \"Std R2\", \"Mean MAE\", \"Std MAE\", \"Target Score Range (for MAE interpretation)\"])\n",
    "display(restults_val_set_df)"
   ]
  },
  {
   "cell_type": "code",
   "execution_count": 10,
   "id": "5db30643",
   "metadata": {},
   "outputs": [
    {
     "data": {
      "text/html": [
       "<div>\n",
       "<style scoped>\n",
       "    .dataframe tbody tr th:only-of-type {\n",
       "        vertical-align: middle;\n",
       "    }\n",
       "\n",
       "    .dataframe tbody tr th {\n",
       "        vertical-align: top;\n",
       "    }\n",
       "\n",
       "    .dataframe thead th {\n",
       "        text-align: right;\n",
       "    }\n",
       "</style>\n",
       "<table border=\"1\" class=\"dataframe\">\n",
       "  <thead>\n",
       "    <tr style=\"text-align: right;\">\n",
       "      <th></th>\n",
       "      <th>Output</th>\n",
       "      <th>Mean R2</th>\n",
       "      <th>Mean MAE</th>\n",
       "      <th>Target Score Range (for MAE interpretation)</th>\n",
       "    </tr>\n",
       "  </thead>\n",
       "  <tbody>\n",
       "    <tr>\n",
       "      <th>0</th>\n",
       "      <td>WIAT,WIAT_Num_Stnd</td>\n",
       "      <td>0.186983</td>\n",
       "      <td>11.747814</td>\n",
       "      <td>(46.0, 160.0)</td>\n",
       "    </tr>\n",
       "    <tr>\n",
       "      <th>1</th>\n",
       "      <td>WIAT,WIAT_Word_Stnd</td>\n",
       "      <td>0.267792</td>\n",
       "      <td>11.411954</td>\n",
       "      <td>(40.0, 153.0)</td>\n",
       "    </tr>\n",
       "    <tr>\n",
       "      <th>2</th>\n",
       "      <td>WISC,WISC_Coding_Scaled</td>\n",
       "      <td>0.152159</td>\n",
       "      <td>2.226408</td>\n",
       "      <td>(1.0, 19.0)</td>\n",
       "    </tr>\n",
       "    <tr>\n",
       "      <th>3</th>\n",
       "      <td>WISC,WISC_FSIQ</td>\n",
       "      <td>0.411034</td>\n",
       "      <td>10.024136</td>\n",
       "      <td>(47.0, 147.0)</td>\n",
       "    </tr>\n",
       "    <tr>\n",
       "      <th>4</th>\n",
       "      <td>WISC,WISC_SS_Scaled</td>\n",
       "      <td>0.102026</td>\n",
       "      <td>2.293444</td>\n",
       "      <td>(1.0, 19.0)</td>\n",
       "    </tr>\n",
       "  </tbody>\n",
       "</table>\n",
       "</div>"
      ],
      "text/plain": [
       "                    Output   Mean R2   Mean MAE  \\\n",
       "0       WIAT,WIAT_Num_Stnd  0.186983  11.747814   \n",
       "1      WIAT,WIAT_Word_Stnd  0.267792  11.411954   \n",
       "2  WISC,WISC_Coding_Scaled  0.152159   2.226408   \n",
       "3           WISC,WISC_FSIQ  0.411034  10.024136   \n",
       "4      WISC,WISC_SS_Scaled  0.102026   2.293444   \n",
       "\n",
       "  Target Score Range (for MAE interpretation)  \n",
       "0                               (46.0, 160.0)  \n",
       "1                               (40.0, 153.0)  \n",
       "2                                 (1.0, 19.0)  \n",
       "3                               (47.0, 147.0)  \n",
       "4                                 (1.0, 19.0)  "
      ]
     },
     "metadata": {},
     "output_type": "display_data"
    }
   ],
   "source": [
    "display(restults_val_set_df[[\"Output\", \"Mean R2\", \"Mean MAE\", \"Target Score Range (for MAE interpretation)\"]])"
   ]
  },
  {
   "cell_type": "code",
   "execution_count": 11,
   "id": "041e44b7",
   "metadata": {},
   "outputs": [
    {
     "data": {
      "text/plain": [
       "['WISC,WISC_FSIQ']"
      ]
     },
     "execution_count": 11,
     "metadata": {},
     "output_type": "execute_result"
    }
   ],
   "source": [
    "good_performing_outputs = list(restults_val_set_df[restults_val_set_df[\"Mean R2\"] > 0.3][\"Output\"])\n",
    "good_performing_outputs"
   ]
  },
  {
   "cell_type": "code",
   "execution_count": 12,
   "id": "95b99b16",
   "metadata": {},
   "outputs": [
    {
     "name": "stdout",
     "output_type": "stream",
     "text": [
      "WISC,WISC_FSIQ\n",
      "r2:  0.510455795925148\n"
     ]
    },
    {
     "data": {
      "image/png": "[encoded data removed]",
      "text/plain": [
       "<Figure size 432x288 with 1 Axes>"
      ]
     },
     "metadata": {
      "needs_background": "light"
     },
     "output_type": "display_data"
    },
    {
     "data": {
      "text/html": [
       "<div>\n",
       "<style scoped>\n",
       "    .dataframe tbody tr th:only-of-type {\n",
       "        vertical-align: middle;\n",
       "    }\n",
       "\n",
       "    .dataframe tbody tr th {\n",
       "        vertical-align: top;\n",
       "    }\n",
       "\n",
       "    .dataframe thead th {\n",
       "        text-align: right;\n",
       "    }\n",
       "</style>\n",
       "<table border=\"1\" class=\"dataframe\">\n",
       "  <thead>\n",
       "    <tr style=\"text-align: right;\">\n",
       "      <th></th>\n",
       "      <th>Output</th>\n",
       "      <th>r2</th>\n",
       "      <th>MAE</th>\n",
       "      <th>Target Score Range (for MAE interpretation)</th>\n",
       "    </tr>\n",
       "  </thead>\n",
       "  <tbody>\n",
       "    <tr>\n",
       "      <th>0</th>\n",
       "      <td>WISC,WISC_FSIQ</td>\n",
       "      <td>0.510456</td>\n",
       "      <td>9.144691</td>\n",
       "      <td>(47.0, 147.0)</td>\n",
       "    </tr>\n",
       "  </tbody>\n",
       "</table>\n",
       "</div>"
      ],
      "text/plain": [
       "           Output        r2       MAE  \\\n",
       "0  WISC,WISC_FSIQ  0.510456  9.144691   \n",
       "\n",
       "  Target Score Range (for MAE interpretation)  \n",
       "0                               (47.0, 147.0)  "
      ]
     },
     "execution_count": 12,
     "metadata": {},
     "output_type": "execute_result"
    }
   ],
   "source": [
    "# Check performance of the final model on test set for all models\n",
    "\n",
    "results_test_set = []\n",
    "for output in good_performing_outputs:\n",
    "    estimator = best_estimators[output]\n",
    "    metrics = get_metrics(estimator, output, input_cols, 'test', 1)\n",
    "    results_test_set.append([\n",
    "        output, \n",
    "        *metrics])\n",
    "restults_test_set_df = pd.DataFrame(results_test_set, columns=[\"Output\"] + metric_names)\n",
    "restults_test_set_df.sort_values(by=\"r2\", ascending=False)"
   ]
  },
  {
   "cell_type": "markdown",
   "id": "f4d05b41",
   "metadata": {},
   "source": [
    "### Feature importance"
   ]
  },
  {
   "cell_type": "code",
   "execution_count": 13,
   "id": "49ea5aa4",
   "metadata": {},
   "outputs": [],
   "source": [
    "if IMPORTANCES_FROM_FILE == 1:\n",
    "    forward_feature_objects = {}\n",
    "    backward_feature_objects = {}\n",
    "    try:\n",
    "        forward_feature_objects = load('forward-sfs-cog-scores-item-lvl.joblib')\n",
    "    except Exception as e: print(e)"
   ]
  },
  {
   "cell_type": "code",
   "execution_count": 14,
   "id": "c9b81fca",
   "metadata": {},
   "outputs": [],
   "source": [
    "# Find elbow of the curve (draw a line from the first to the last point of the curve and then find the data point that is farthest away from that line) https://stackoverflow.com/questions/2018178/finding-the-best-trade-off-point-on-a-curve \n",
    "def find_elbow(curve):\n",
    "    from numpy import matlib \n",
    "    n_points = len(curve)\n",
    "    all_coord = np.vstack((range(n_points), curve)).T\n",
    "    first_point = all_coord[0]\n",
    "    line_vec = all_coord[-1] - all_coord[0]\n",
    "    line_vec_norm = line_vec / np.sqrt(np.sum(line_vec**2))\n",
    "    vec_from_first = all_coord - first_point\n",
    "    scalar_product = np.sum(vec_from_first * np.matlib.repmat(line_vec_norm, n_points, 1), axis=1)\n",
    "    vec_from_first_parallel = np.outer(scalar_product, line_vec_norm)\n",
    "    vec_to_line = vec_from_first - vec_from_first_parallel\n",
    "    dist_to_line = np.sqrt(np.sum(vec_to_line ** 2, axis=1))\n",
    "    idx_of_best_point = np.argmax(dist_to_line)\n",
    "    return idx_of_best_point + 1\n",
    "\n",
    "def analyze_importances(importances):\n",
    "    importances_list = []\n",
    "    for key in importances:\n",
    "        importances_list.append(importances[key]['avg_score'])\n",
    "    importances_df = pd.DataFrame(importances_list, index=importances.keys(), columns=[\"r2\"])\n",
    "    display(importances_df)\n",
    "\n",
    "    max_score = max(importances_list)\n",
    "    n_cols_max_score = importances_df[importances_df[\"r2\"] == max_score].index[0]\n",
    "    print(\"Max score: \", max_score, \" at \", n_cols_max_score, \" features\")\n",
    "    features_up_to_max_score = importances[n_cols_max_score][\"feature_names\"]\n",
    "\n",
    "    plt.figure(figsize=(16,8))\n",
    "    plt.plot(importances_df)\n",
    "    plt.xticks(np.arange(1,100, 3))\n",
    "    plt.vlines(np.arange(1,100, 3), ymin=min(importances_list), ymax=max(importances_list), colors='purple', ls=':', lw=1)\n",
    "    plt.show()\n",
    "    \n",
    "    optimal_nb_features = find_elbow(importances_list)\n",
    "    print(\"Optimal number of features: \", optimal_nb_features)\n",
    "    \n",
    "    features_up_to_optimal = importances[optimal_nb_features][\"feature_names\"]\n",
    "    display(features_up_to_optimal)\n",
    "    \n",
    "    return (features_up_to_optimal, features_up_to_max_score)"
   ]
  },
  {
   "cell_type": "code",
   "execution_count": 16,
   "id": "d0fa5217",
   "metadata": {},
   "outputs": [
    {
     "name": "stdout",
     "output_type": "stream",
     "text": [
      "WISC,WISC_FSIQ\n"
     ]
    },
    {
     "data": {
      "text/html": [
       "<div>\n",
       "<style scoped>\n",
       "    .dataframe tbody tr th:only-of-type {\n",
       "        vertical-align: middle;\n",
       "    }\n",
       "\n",
       "    .dataframe tbody tr th {\n",
       "        vertical-align: top;\n",
       "    }\n",
       "\n",
       "    .dataframe thead th {\n",
       "        text-align: right;\n",
       "    }\n",
       "</style>\n",
       "<table border=\"1\" class=\"dataframe\">\n",
       "  <thead>\n",
       "    <tr style=\"text-align: right;\">\n",
       "      <th></th>\n",
       "      <th>r2</th>\n",
       "    </tr>\n",
       "  </thead>\n",
       "  <tbody>\n",
       "    <tr>\n",
       "      <th>1</th>\n",
       "      <td>0.203805</td>\n",
       "    </tr>\n",
       "    <tr>\n",
       "      <th>2</th>\n",
       "      <td>0.235380</td>\n",
       "    </tr>\n",
       "    <tr>\n",
       "      <th>3</th>\n",
       "      <td>0.259862</td>\n",
       "    </tr>\n",
       "    <tr>\n",
       "      <th>4</th>\n",
       "      <td>0.288653</td>\n",
       "    </tr>\n",
       "    <tr>\n",
       "      <th>5</th>\n",
       "      <td>0.309062</td>\n",
       "    </tr>\n",
       "    <tr>\n",
       "      <th>...</th>\n",
       "      <td>...</td>\n",
       "    </tr>\n",
       "    <tr>\n",
       "      <th>96</th>\n",
       "      <td>0.484509</td>\n",
       "    </tr>\n",
       "    <tr>\n",
       "      <th>97</th>\n",
       "      <td>0.484549</td>\n",
       "    </tr>\n",
       "    <tr>\n",
       "      <th>98</th>\n",
       "      <td>0.484587</td>\n",
       "    </tr>\n",
       "    <tr>\n",
       "      <th>99</th>\n",
       "      <td>0.484625</td>\n",
       "    </tr>\n",
       "    <tr>\n",
       "      <th>100</th>\n",
       "      <td>0.484661</td>\n",
       "    </tr>\n",
       "  </tbody>\n",
       "</table>\n",
       "<p>100 rows × 1 columns</p>\n",
       "</div>"
      ],
      "text/plain": [
       "           r2\n",
       "1    0.203805\n",
       "2    0.235380\n",
       "3    0.259862\n",
       "4    0.288653\n",
       "5    0.309062\n",
       "..        ...\n",
       "96   0.484509\n",
       "97   0.484549\n",
       "98   0.484587\n",
       "99   0.484625\n",
       "100  0.484661\n",
       "\n",
       "[100 rows x 1 columns]"
      ]
     },
     "metadata": {},
     "output_type": "display_data"
    },
    {
     "name": "stdout",
     "output_type": "stream",
     "text": [
      "Max score:  0.4846605382366344  at  100  features\n"
     ]
    },
    {
     "data": {
      "image/png": "[encoded data removed]",
      "text/plain": [
       "<Figure size 1152x576 with 1 Axes>"
      ]
     },
     "metadata": {
      "needs_background": "light"
     },
     "output_type": "display_data"
    },
    {
     "name": "stdout",
     "output_type": "stream",
     "text": [
      "Optimal number of features:  23\n"
     ]
    },
    {
     "data": {
      "text/plain": [
       "('Basic_Demos,Age',\n",
       " 'SympChck,CSC_36C',\n",
       " 'SympChck,CSC_50C',\n",
       " 'SCQ,SCQ_05',\n",
       " 'Barratt,financialsupport',\n",
       " 'ASSQ,ASSQ_02',\n",
       " 'SDQ,SDQ_20',\n",
       " 'SWAN,SWAN_06',\n",
       " 'SWAN,SWAN_09',\n",
       " 'SRS,SRS_11',\n",
       " 'SRS,SRS_17',\n",
       " 'SRS,SRS_43',\n",
       " 'SRS,SRS_44',\n",
       " 'SRS,SRS_63',\n",
       " 'CBCL,CBCL_17',\n",
       " 'APQ_P,APQ_P_16',\n",
       " 'APQ_P,APQ_P_37',\n",
       " 'APQ_SR,APQ_SR_11',\n",
       " 'APQ_SR,APQ_SR_38',\n",
       " 'PSI,PSI_08',\n",
       " 'PSI,PSI_17',\n",
       " 'PSI,PSI_18',\n",
       " 'PSI,PSI_32')"
      ]
     },
     "metadata": {},
     "output_type": "display_data"
    }
   ],
   "source": [
    "from mlxtend.feature_selection import SequentialFeatureSelector\n",
    "\n",
    "if IMPORTANCES_FROM_FILE == 0:\n",
    "    forward_feature_subsets = {}\n",
    "    forward_feature_objects = {}\n",
    "    for output in good_performing_outputs:\n",
    "        print(output)\n",
    "        estimator = best_estimators[output]\n",
    "\n",
    "        sfs = SequentialFeatureSelector(estimator, \n",
    "              k_features=100,\n",
    "              forward=True, \n",
    "              scoring='r2',\n",
    "              cv=3,\n",
    "              n_jobs=-1)\n",
    "\n",
    "        sfs = sfs.fit(train_set[input_cols], train_set[output])\n",
    "\n",
    "        forward_feature_subsets[output] = sfs.subsets_\n",
    "        forward_feature_objects[output] = sfs\n",
    "        \n",
    "        analyze_importances(forward_feature_objects[output].subsets_)"
   ]
  },
  {
   "cell_type": "code",
   "execution_count": 18,
   "id": "6cd53797",
   "metadata": {},
   "outputs": [],
   "source": [
    "# Save importances to file\n",
    "if IMPORTANCES_FROM_FILE == 0:\n",
    "    dump(forward_feature_objects, 'forward-sfs-cog-scores-item-lvl.joblib', compress=1)"
   ]
  },
  {
   "cell_type": "code",
   "execution_count": 17,
   "id": "3f945917",
   "metadata": {
    "scrolled": false
   },
   "outputs": [
    {
     "name": "stdout",
     "output_type": "stream",
     "text": [
      "WISC,WISC_FSIQ\n"
     ]
    },
    {
     "data": {
      "text/html": [
       "<div>\n",
       "<style scoped>\n",
       "    .dataframe tbody tr th:only-of-type {\n",
       "        vertical-align: middle;\n",
       "    }\n",
       "\n",
       "    .dataframe tbody tr th {\n",
       "        vertical-align: top;\n",
       "    }\n",
       "\n",
       "    .dataframe thead th {\n",
       "        text-align: right;\n",
       "    }\n",
       "</style>\n",
       "<table border=\"1\" class=\"dataframe\">\n",
       "  <thead>\n",
       "    <tr style=\"text-align: right;\">\n",
       "      <th></th>\n",
       "      <th>r2</th>\n",
       "    </tr>\n",
       "  </thead>\n",
       "  <tbody>\n",
       "    <tr>\n",
       "      <th>1</th>\n",
       "      <td>0.203805</td>\n",
       "    </tr>\n",
       "    <tr>\n",
       "      <th>2</th>\n",
       "      <td>0.235380</td>\n",
       "    </tr>\n",
       "    <tr>\n",
       "      <th>3</th>\n",
       "      <td>0.259862</td>\n",
       "    </tr>\n",
       "    <tr>\n",
       "      <th>4</th>\n",
       "      <td>0.288653</td>\n",
       "    </tr>\n",
       "    <tr>\n",
       "      <th>5</th>\n",
       "      <td>0.309062</td>\n",
       "    </tr>\n",
       "    <tr>\n",
       "      <th>...</th>\n",
       "      <td>...</td>\n",
       "    </tr>\n",
       "    <tr>\n",
       "      <th>96</th>\n",
       "      <td>0.484509</td>\n",
       "    </tr>\n",
       "    <tr>\n",
       "      <th>97</th>\n",
       "      <td>0.484549</td>\n",
       "    </tr>\n",
       "    <tr>\n",
       "      <th>98</th>\n",
       "      <td>0.484587</td>\n",
       "    </tr>\n",
       "    <tr>\n",
       "      <th>99</th>\n",
       "      <td>0.484625</td>\n",
       "    </tr>\n",
       "    <tr>\n",
       "      <th>100</th>\n",
       "      <td>0.484661</td>\n",
       "    </tr>\n",
       "  </tbody>\n",
       "</table>\n",
       "<p>100 rows × 1 columns</p>\n",
       "</div>"
      ],
      "text/plain": [
       "           r2\n",
       "1    0.203805\n",
       "2    0.235380\n",
       "3    0.259862\n",
       "4    0.288653\n",
       "5    0.309062\n",
       "..        ...\n",
       "96   0.484509\n",
       "97   0.484549\n",
       "98   0.484587\n",
       "99   0.484625\n",
       "100  0.484661\n",
       "\n",
       "[100 rows x 1 columns]"
      ]
     },
     "metadata": {},
     "output_type": "display_data"
    },
    {
     "name": "stdout",
     "output_type": "stream",
     "text": [
      "Max score:  0.4846605382366344  at  100  features\n"
     ]
    },
    {
     "data": {
      "image/png": "[encoded data removed]",
      "text/plain": [
       "<Figure size 1152x576 with 1 Axes>"
      ]
     },
     "metadata": {
      "needs_background": "light"
     },
     "output_type": "display_data"
    },
    {
     "name": "stdout",
     "output_type": "stream",
     "text": [
      "Optimal number of features:  23\n"
     ]
    },
    {
     "data": {
      "text/plain": [
       "('Basic_Demos,Age',\n",
       " 'SympChck,CSC_36C',\n",
       " 'SympChck,CSC_50C',\n",
       " 'SCQ,SCQ_05',\n",
       " 'Barratt,financialsupport',\n",
       " 'ASSQ,ASSQ_02',\n",
       " 'SDQ,SDQ_20',\n",
       " 'SWAN,SWAN_06',\n",
       " 'SWAN,SWAN_09',\n",
       " 'SRS,SRS_11',\n",
       " 'SRS,SRS_17',\n",
       " 'SRS,SRS_43',\n",
       " 'SRS,SRS_44',\n",
       " 'SRS,SRS_63',\n",
       " 'CBCL,CBCL_17',\n",
       " 'APQ_P,APQ_P_16',\n",
       " 'APQ_P,APQ_P_37',\n",
       " 'APQ_SR,APQ_SR_11',\n",
       " 'APQ_SR,APQ_SR_38',\n",
       " 'PSI,PSI_08',\n",
       " 'PSI,PSI_17',\n",
       " 'PSI,PSI_18',\n",
       " 'PSI,PSI_32')"
      ]
     },
     "metadata": {},
     "output_type": "display_data"
    },
    {
     "name": "stdout",
     "output_type": "stream",
     "text": [
      "Score using all features: \n",
      "WISC,WISC_FSIQ\n",
      "r2:  0.41000225037065663\n"
     ]
    },
    {
     "data": {
      "image/png": "[encoded data removed]",
      "text/plain": [
       "<Figure size 432x288 with 1 Axes>"
      ]
     },
     "metadata": {
      "needs_background": "light"
     },
     "output_type": "display_data"
    },
    {
     "name": "stdout",
     "output_type": "stream",
     "text": [
      "R2:  0.41000225037065663\n",
      "Performance on test set using optimal number of columns: \n",
      "WISC,WISC_FSIQ\n",
      "r2:  0.3624009340473211\n"
     ]
    },
    {
     "data": {
      "image/png": "[encoded data removed]",
      "text/plain": [
       "<Figure size 432x288 with 1 Axes>"
      ]
     },
     "metadata": {
      "needs_background": "light"
     },
     "output_type": "display_data"
    },
    {
     "name": "stdout",
     "output_type": "stream",
     "text": [
      "R2:  0.3624009340473211\n",
      "Performance on test set using number of columns with maximum score\n",
      "WISC,WISC_FSIQ\n",
      "r2:  0.3859264440261888\n"
     ]
    },
    {
     "data": {
      "image/png": "[encoded data removed]",
      "text/plain": [
       "<Figure size 432x288 with 1 Axes>"
      ]
     },
     "metadata": {
      "needs_background": "light"
     },
     "output_type": "display_data"
    },
    {
     "name": "stdout",
     "output_type": "stream",
     "text": [
      "R2:  0.3859264440261888\n"
     ]
    }
   ],
   "source": [
    "# Print sfs results\n",
    "for output in good_performing_outputs:\n",
    "    print(output)\n",
    "    \n",
    "    features_up_to_optimal, features_up_to_max_score = analyze_importances(forward_feature_objects[output].subsets_)\n",
    "    features_up_to_optimal = list(features_up_to_optimal)\n",
    "    features_up_to_max_score = list(features_up_to_max_score)\n",
    "    \n",
    "    # Test both subsets on test set\n",
    "    estimator = best_estimators[output]\n",
    "    \n",
    "    # All features\n",
    "    # Create new pipeline with the same params (need to re-train the imputer on less features)\n",
    "    new_estimator = make_pipeline(SimpleImputer(missing_values=np.nan, strategy='median'), StandardScaler(), estimator[2])\n",
    "    new_estimator.fit(train_set[input_cols], train_set[output])\n",
    "    print(\"Score using all features: \")\n",
    "    metrics = get_metrics(new_estimator, output, input_cols, 'test', 1)\n",
    "    print(\"R2: \", metrics[metric_names.index(\"r2\")])\n",
    "    \n",
    "    # Create new pipeline with the same params (need to re-train the imputer on less features)\n",
    "    new_estimator = make_pipeline(SimpleImputer(missing_values=np.nan, strategy='median'), StandardScaler(), estimator[2])\n",
    "    new_estimator.fit(train_set[features_up_to_optimal], train_set[output])\n",
    "    print(\"Performance on test set using optimal number of columns: \")\n",
    "    metrics = get_metrics(new_estimator, output, features_up_to_optimal, 'test', 1)\n",
    "    print(\"R2: \", metrics[metric_names.index(\"r2\")])\n",
    "\n",
    "    # Create new pipeline with the same params (need to re-train the imputer on less features)\n",
    "    new_estimator = make_pipeline(SimpleImputer(missing_values=np.nan, strategy='median'), StandardScaler(), estimator[2])\n",
    "    new_estimator.fit(train_set[features_up_to_max_score], train_set[output])\n",
    "    print(\"Performance on test set using number of columns with maximum score\")\n",
    "    metrics = get_metrics(new_estimator, output, features_up_to_max_score, 'test', 1)\n",
    "    print(\"R2: \", metrics[metric_names.index(\"r2\")])"
   ]
  }
 ],
 "metadata": {
  "kernelspec": {
   "display_name": "Python 3 (ipykernel)",
   "language": "python",
   "name": "python3"
  },
  "language_info": {
   "codemirror_mode": {
    "name": "ipython",
    "version": 3
   },
   "file_extension": ".py",
   "mimetype": "text/x-python",
   "name": "python",
   "nbconvert_exporter": "python",
   "pygments_lexer": "ipython3",
   "version": "3.9.7"
  }
 },
 "nbformat": 4,
 "nbformat_minor": 5
}
