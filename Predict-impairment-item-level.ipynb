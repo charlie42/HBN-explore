{
 "cells": [
  {
   "cell_type": "code",
   "execution_count": 51,
   "id": "4128d658",
   "metadata": {},
   "outputs": [],
   "source": [
    "MODELS_FROM_FILE = 1\n",
    "IMPORTANCES_FROM_FILE = 1\n",
    "\n",
    "import pandas as pd\n",
    "import numpy as np\n",
    "from sklearn.model_selection import train_test_split\n",
    "from sklearn.model_selection import StratifiedKFold\n",
    "from sklearn.model_selection import cross_val_score, cross_val_predict, cross_validate\n",
    "\n",
    "from sklearn.tree import DecisionTreeRegressor\n",
    "from sklearn.ensemble import RandomForestRegressor\n",
    "from sklearn import svm\n",
    "from sklearn.linear_model import ElasticNet\n",
    "\n",
    "from sklearn.impute import SimpleImputer\n",
    "from sklearn.preprocessing import StandardScaler\n",
    "from sklearn.feature_selection import VarianceThreshold\n",
    "from sklearn.feature_selection import SelectKBest, mutual_info_classif, f_classif\n",
    "\n",
    "from sklearn.pipeline import make_pipeline\n",
    "\n",
    "from sklearn.metrics import confusion_matrix, plot_confusion_matrix, recall_score, precision_score, balanced_accuracy_score, f1_score, roc_auc_score, fbeta_score, make_scorer, roc_curve, precision_recall_curve, accuracy_score, r2_score, mean_absolute_error\n",
    "from sklearn.metrics import PrecisionRecallDisplay, ConfusionMatrixDisplay\n",
    "import matplotlib.pyplot as plt\n",
    "\n",
    "from sklearn.model_selection import GridSearchCV, RandomizedSearchCV\n",
    "\n",
    "    \n",
    "pd.set_option(\"display.max_columns\", None)\n",
    "pd.set_option('max_colwidth', None)\n",
    "\n",
    "\n",
    "data_intermediate_dir = \"data/intermediate/\"\n",
    "item_lvl_wo_imp = pd.read_csv(data_intermediate_dir + \"item_lvl_wo_impairment.csv\")\n",
    "\n",
    "# Prepare input and ouptut column names\n",
    "\n",
    "output_cols = [x for x in item_lvl_wo_imp.columns if x.startswith(\"WHODAS\") or x.startswith(\"CIS\")] # All impairment columns\n",
    "\n",
    "input_cols = [x for x in item_lvl_wo_imp.columns if \n",
    "                       not x.startswith(\"Diag: \") \n",
    "                       and not x.startswith(\"WIAT\")\n",
    "                       and not x.startswith(\"WISC\")\n",
    "                       and not x.startswith(\"WHODAS\")\n",
    "                       and not x.startswith(\"CIS\")] # Input columns are all columns except Diagnosis, WIAT, and WISC, impairment columns\n",
    "\n",
    "# Separate test set for all impairment scores\n",
    "\n",
    "# Shuffle the dataset \n",
    "shuffle_df = item_lvl_wo_imp.sample(frac=1, random_state=42)\n",
    "\n",
    "# Define a size for the train set \n",
    "train_size = int(0.7 * len(item_lvl_wo_imp))\n",
    "\n",
    "# Split the dataset \n",
    "train_set = shuffle_df[:train_size]\n",
    "test_set = shuffle_df[train_size:] # Don't touch this until the end\n",
    "\n",
    "# Train_train and Validation set\n",
    "# Define a size for your train_train set \n",
    "train_train_size = int(0.7 * len(train_set))\n",
    "\n",
    "# Split your dataset \n",
    "train_train_set = train_set[:train_train_size]\n",
    "val_set = train_set[train_train_size:]"
   ]
  },
  {
   "cell_type": "code",
   "execution_count": 52,
   "id": "7be13ee3",
   "metadata": {},
   "outputs": [],
   "source": [
    "def get_base_models_and_param_grids():\n",
    "    \n",
    "    # Define base models\n",
    "    dt = DecisionTreeRegressor()\n",
    "    rf = RandomForestRegressor()\n",
    "    svr = svm.SVR()\n",
    "    en = ElasticNet()\n",
    "    \n",
    "    # Impute missing values\n",
    "    imputer = SimpleImputer(missing_values=np.nan, strategy='median')\n",
    "    \n",
    "    # Standardize data\n",
    "    scaler = StandardScaler()\n",
    "\n",
    "    # Make pipelines\n",
    "    dt_pipe = make_pipeline(imputer, scaler, dt)\n",
    "    rf_pipe = make_pipeline(imputer, scaler, rf)\n",
    "    svr_pipe = make_pipeline(imputer, scaler, svr)\n",
    "    en_pipe = make_pipeline(imputer, scaler, en)\n",
    "    \n",
    "    # Define parameter grids to search for each pipe\n",
    "    from scipy.stats import loguniform, uniform\n",
    "    dt_param_grid = {\n",
    "        \"decisiontreeregressor__splitter\": [\"best\",\"random\"],\n",
    "        \"decisiontreeregressor__min_samples_split\": np.random.randint(2, 20, 30),\n",
    "        \"decisiontreeregressor__max_depth\": np.random.randint(1, 30, 30),\n",
    "        \"decisiontreeregressor__min_samples_leaf\": np.random.randint(1, 20, 30),\n",
    "        \"decisiontreeregressor__max_leaf_nodes\": np.random.randint(2, 50, 30)\n",
    "    }\n",
    "    rf_param_grid = {\n",
    "        'randomforestregressor__max_depth' : np.random.randint(5, 150, 30),\n",
    "        'randomforestregressor__min_samples_split': np.random.randint(2, 50, 30),\n",
    "        'randomforestregressor__n_estimators': np.random.randint(50, 400, 10),\n",
    "        'randomforestregressor__min_samples_leaf': np.random.randint(1, 20, 30),\n",
    "        'randomforestregressor__max_features': ['auto', 'sqrt', 'log2', 0.25, 0.5, 0.75, 1.0]\n",
    "    }\n",
    "    svr_param_grid = {\n",
    "        'svr__C': loguniform(1e-03, 1e+02),\n",
    "        'svr__gamma': loguniform(1e-03, 1e+02),\n",
    "        'svr__degree': uniform(2, 5),\n",
    "        'svr__epsilon': loguniform(1e-03,1),\n",
    "        'svr__kernel': ['linear', 'poly', 'rbf', 'sigmoid']\n",
    "    }\n",
    "    en_param_grid = {\n",
    "        'elasticnet__alpha': loguniform(1e-5, 100),\n",
    "        'elasticnet__l1_ratio': uniform(0, 1)\n",
    "    }\n",
    "    \n",
    "    base_models_and_param_grids = [\n",
    "        (dt_pipe, dt_param_grid),\n",
    "        (rf_pipe, rf_param_grid),\n",
    "        (svr_pipe, svr_param_grid),\n",
    "        (en_pipe, en_param_grid),\n",
    "    ]\n",
    "    \n",
    "    return base_models_and_param_grids\n",
    "\n",
    "def get_best_classifier(base_model, grid, output_col):\n",
    "    rs = RandomizedSearchCV(estimator=base_model, param_distributions=grid, cv=3, scoring=\"r2\", n_iter=100, n_jobs = -1)\n",
    "    \n",
    "    rs.fit(train_set[input_cols], train_set[output_col]) # On train_set, not train_train_set because do cross-validation\n",
    "    \n",
    "    best_estimator = rs.best_estimator_\n",
    "    best_score = rs.best_score_\n",
    "    \n",
    "    return (best_estimator, best_score)"
   ]
  },
  {
   "cell_type": "code",
   "execution_count": 53,
   "id": "75cd1f69",
   "metadata": {},
   "outputs": [],
   "source": [
    "def find_best_estimator_for_output(output_col):\n",
    "    best_score = 0\n",
    "    best_classifier = None\n",
    "    base_models_and_param_grids = get_base_models_and_param_grids()\n",
    "    for (base_model, grid) in base_models_and_param_grids:\n",
    "        best_classifier_for_model, best_score_for_model = get_best_classifier(base_model, grid, output_col)\n",
    "        if best_score_for_model > best_score:\n",
    "            best_classifier = best_classifier_for_model\n",
    "            best_score = best_score_for_model\n",
    "    return best_classifier"
   ]
  },
  {
   "cell_type": "code",
   "execution_count": 54,
   "id": "48119398",
   "metadata": {},
   "outputs": [],
   "source": [
    "if MODELS_FROM_FILE == 0:\n",
    "    best_estimators = {}\n",
    "    for output in output_cols:\n",
    "        best_estimator_for_output = find_best_estimator_for_output(output)\n",
    "        best_estimators[output] = best_estimator_for_output\n",
    "        print(\"Best estimator for \", output, \": \", best_estimators[output])"
   ]
  },
  {
   "cell_type": "code",
   "execution_count": 55,
   "id": "a2c7fe52",
   "metadata": {},
   "outputs": [],
   "source": [
    "from joblib import dump, load\n",
    "if MODELS_FROM_FILE == 0:\n",
    "    # Save best estimators - best parameters, and the estimator objects themselves\n",
    "    best_estimators_df = pd.DataFrame([best_estimators]).T.reset_index()\n",
    "    best_estimators_df.columns = [\"Output\", \"Best Estimator\"]\n",
    "    display(best_estimators_df)\n",
    "    best_estimators_df.to_csv(\"best-estimators-imp-item-lvl.csv\")\n",
    "\n",
    "    dump(best_estimators, 'best-estimators-imp-item-lvl.joblib', compress=1)"
   ]
  },
  {
   "cell_type": "code",
   "execution_count": 56,
   "id": "4839a655",
   "metadata": {},
   "outputs": [
    {
     "name": "stderr",
     "output_type": "stream",
     "text": [
      "/Users/charlie/opt/anaconda3/envs/main/lib/python3.10/site-packages/sklearn/base.py:329: UserWarning: Trying to unpickle estimator SimpleImputer from version 1.0.2 when using version 1.1.1. This might lead to breaking code or invalid results. Use at your own risk. For more info please refer to:\n",
      "https://scikit-learn.org/stable/model_persistence.html#security-maintainability-limitations\n",
      "  warnings.warn(\n",
      "/Users/charlie/opt/anaconda3/envs/main/lib/python3.10/site-packages/sklearn/base.py:329: UserWarning: Trying to unpickle estimator StandardScaler from version 1.0.2 when using version 1.1.1. This might lead to breaking code or invalid results. Use at your own risk. For more info please refer to:\n",
      "https://scikit-learn.org/stable/model_persistence.html#security-maintainability-limitations\n",
      "  warnings.warn(\n",
      "/Users/charlie/opt/anaconda3/envs/main/lib/python3.10/site-packages/sklearn/base.py:329: UserWarning: Trying to unpickle estimator ElasticNet from version 1.0.2 when using version 1.1.1. This might lead to breaking code or invalid results. Use at your own risk. For more info please refer to:\n",
      "https://scikit-learn.org/stable/model_persistence.html#security-maintainability-limitations\n",
      "  warnings.warn(\n",
      "/Users/charlie/opt/anaconda3/envs/main/lib/python3.10/site-packages/sklearn/base.py:329: UserWarning: Trying to unpickle estimator Pipeline from version 1.0.2 when using version 1.1.1. This might lead to breaking code or invalid results. Use at your own risk. For more info please refer to:\n",
      "https://scikit-learn.org/stable/model_persistence.html#security-maintainability-limitations\n",
      "  warnings.warn(\n",
      "/Users/charlie/opt/anaconda3/envs/main/lib/python3.10/site-packages/sklearn/base.py:329: UserWarning: Trying to unpickle estimator DecisionTreeRegressor from version 1.0.2 when using version 1.1.1. This might lead to breaking code or invalid results. Use at your own risk. For more info please refer to:\n",
      "https://scikit-learn.org/stable/model_persistence.html#security-maintainability-limitations\n",
      "  warnings.warn(\n",
      "/Users/charlie/opt/anaconda3/envs/main/lib/python3.10/site-packages/sklearn/base.py:329: UserWarning: Trying to unpickle estimator RandomForestRegressor from version 1.0.2 when using version 1.1.1. This might lead to breaking code or invalid results. Use at your own risk. For more info please refer to:\n",
      "https://scikit-learn.org/stable/model_persistence.html#security-maintainability-limitations\n",
      "  warnings.warn(\n"
     ]
    }
   ],
   "source": [
    "if MODELS_FROM_FILE == 1:\n",
    "    best_estimators = load('best-estimators-imp-item-lvl.joblib')"
   ]
  },
  {
   "cell_type": "code",
   "execution_count": 63,
   "id": "e741f128",
   "metadata": {},
   "outputs": [],
   "source": [
    "metric_names = ['r2', 'MAE', 'Target Score Range (for MAE interpretation)']   \n",
    "\n",
    "def get_min_max_for_mae_interpretation(output_col):\n",
    "    return (item_lvl_wo_imp[output_col].min(), item_lvl_wo_imp[output_col].max())\n",
    "    \n",
    "def get_metrics(estimator, output_col, input_cols, validation_or_test = \"validation\", print_output_flag = 0):\n",
    "    input_cols = input_cols\n",
    "    \n",
    "    if validation_or_test == \"test\":\n",
    "        x = test_set[input_cols]\n",
    "        y = test_set[output_col]\n",
    "    else: \n",
    "        x = val_set[input_cols]\n",
    "        y = val_set[output_col]\n",
    "        \n",
    "    y_pred = estimator.predict(x)\n",
    "    \n",
    "    metrics = []\n",
    "    r2 = r2_score(y, y_pred)\n",
    "    mae = mean_absolute_error(y, y_pred)\n",
    "    target_score_range = str(get_min_max_for_mae_interpretation(output_col))\n",
    "    metrics += [r2, mae, target_score_range]\n",
    "    \n",
    "    if print_output_flag:\n",
    "        print(output_col)\n",
    "        print(\"r2: \", r2)\n",
    "        \n",
    "        plt.scatter(y, y_pred)\n",
    "        plt.xlim(0, get_min_max_for_mae_interpretation(output_col)[1])\n",
    "        plt.ylim(0, get_min_max_for_mae_interpretation(output_col)[1])\n",
    "        plt.show()\n",
    "        \n",
    "        y_and_y_pred = pd.DataFrame(zip(y, y_pred), columns = [\"y\", \"y pred\"])\n",
    "        display(y_and_y_pred[(y_and_y_pred[\"y\"] >= 29) & (y_and_y_pred[\"y\"] <= 31)])\n",
    "        \n",
    "    return metrics"
   ]
  },
  {
   "cell_type": "code",
   "execution_count": 58,
   "id": "815d6840",
   "metadata": {},
   "outputs": [
    {
     "name": "stderr",
     "output_type": "stream",
     "text": [
      "/Users/charlie/opt/anaconda3/envs/main/lib/python3.10/site-packages/sklearn/impute/_base.py:337: FutureWarning: The 'verbose' parameter was deprecated in version 1.1 and will be removed in 1.3. A warning will always be raised upon the removal of empty columns in the future version.\n",
      "  warnings.warn(\n"
     ]
    },
    {
     "name": "stdout",
     "output_type": "stream",
     "text": [
      "WHODAS_P,WHODAS_P_Total\n"
     ]
    },
    {
     "name": "stderr",
     "output_type": "stream",
     "text": [
      "/Users/charlie/opt/anaconda3/envs/main/lib/python3.10/site-packages/sklearn/impute/_base.py:337: FutureWarning: The 'verbose' parameter was deprecated in version 1.1 and will be removed in 1.3. A warning will always be raised upon the removal of empty columns in the future version.\n",
      "  warnings.warn(\n",
      "/Users/charlie/opt/anaconda3/envs/main/lib/python3.10/site-packages/sklearn/impute/_base.py:337: FutureWarning: The 'verbose' parameter was deprecated in version 1.1 and will be removed in 1.3. A warning will always be raised upon the removal of empty columns in the future version.\n",
      "  warnings.warn(\n",
      "/Users/charlie/opt/anaconda3/envs/main/lib/python3.10/site-packages/sklearn/impute/_base.py:337: FutureWarning: The 'verbose' parameter was deprecated in version 1.1 and will be removed in 1.3. A warning will always be raised upon the removal of empty columns in the future version.\n",
      "  warnings.warn(\n",
      "/Users/charlie/opt/anaconda3/envs/main/lib/python3.10/site-packages/sklearn/impute/_base.py:337: FutureWarning: The 'verbose' parameter was deprecated in version 1.1 and will be removed in 1.3. A warning will always be raised upon the removal of empty columns in the future version.\n",
      "  warnings.warn(\n",
      "/Users/charlie/opt/anaconda3/envs/main/lib/python3.10/site-packages/sklearn/impute/_base.py:337: FutureWarning: The 'verbose' parameter was deprecated in version 1.1 and will be removed in 1.3. A warning will always be raised upon the removal of empty columns in the future version.\n",
      "  warnings.warn(\n",
      "/Users/charlie/opt/anaconda3/envs/main/lib/python3.10/site-packages/sklearn/impute/_base.py:337: FutureWarning: The 'verbose' parameter was deprecated in version 1.1 and will be removed in 1.3. A warning will always be raised upon the removal of empty columns in the future version.\n",
      "  warnings.warn(\n",
      "/Users/charlie/opt/anaconda3/envs/main/lib/python3.10/site-packages/sklearn/impute/_base.py:337: FutureWarning: The 'verbose' parameter was deprecated in version 1.1 and will be removed in 1.3. A warning will always be raised upon the removal of empty columns in the future version.\n",
      "  warnings.warn(\n",
      "/Users/charlie/opt/anaconda3/envs/main/lib/python3.10/site-packages/sklearn/impute/_base.py:337: FutureWarning: The 'verbose' parameter was deprecated in version 1.1 and will be removed in 1.3. A warning will always be raised upon the removal of empty columns in the future version.\n",
      "  warnings.warn(\n",
      "/Users/charlie/opt/anaconda3/envs/main/lib/python3.10/site-packages/sklearn/impute/_base.py:337: FutureWarning: The 'verbose' parameter was deprecated in version 1.1 and will be removed in 1.3. A warning will always be raised upon the removal of empty columns in the future version.\n",
      "  warnings.warn(\n"
     ]
    },
    {
     "data": {
      "text/html": [
       "<div>\n",
       "<style scoped>\n",
       "    .dataframe tbody tr th:only-of-type {\n",
       "        vertical-align: middle;\n",
       "    }\n",
       "\n",
       "    .dataframe tbody tr th {\n",
       "        vertical-align: top;\n",
       "    }\n",
       "\n",
       "    .dataframe thead th {\n",
       "        text-align: right;\n",
       "    }\n",
       "</style>\n",
       "<table border=\"1\" class=\"dataframe\">\n",
       "  <thead>\n",
       "    <tr style=\"text-align: right;\">\n",
       "      <th></th>\n",
       "      <th>test_score</th>\n",
       "      <th>train_score</th>\n",
       "    </tr>\n",
       "  </thead>\n",
       "  <tbody>\n",
       "    <tr>\n",
       "      <th>0</th>\n",
       "      <td>0.213351</td>\n",
       "      <td>0.268876</td>\n",
       "    </tr>\n",
       "    <tr>\n",
       "      <th>1</th>\n",
       "      <td>0.111979</td>\n",
       "      <td>0.305572</td>\n",
       "    </tr>\n",
       "    <tr>\n",
       "      <th>2</th>\n",
       "      <td>0.191857</td>\n",
       "      <td>0.288644</td>\n",
       "    </tr>\n",
       "    <tr>\n",
       "      <th>3</th>\n",
       "      <td>0.164298</td>\n",
       "      <td>0.301566</td>\n",
       "    </tr>\n",
       "    <tr>\n",
       "      <th>4</th>\n",
       "      <td>0.172211</td>\n",
       "      <td>0.298639</td>\n",
       "    </tr>\n",
       "  </tbody>\n",
       "</table>\n",
       "</div>"
      ],
      "text/plain": [
       "   test_score  train_score\n",
       "0    0.213351     0.268876\n",
       "1    0.111979     0.305572\n",
       "2    0.191857     0.288644\n",
       "3    0.164298     0.301566\n",
       "4    0.172211     0.298639"
      ]
     },
     "metadata": {},
     "output_type": "display_data"
    },
    {
     "data": {
      "image/png": "[encoded data removed]",
      "text/plain": [
       "<Figure size 432x288 with 1 Axes>"
      ]
     },
     "metadata": {
      "needs_background": "light"
     },
     "output_type": "display_data"
    },
    {
     "name": "stdout",
     "output_type": "stream",
     "text": [
      "CIS_P,CIS_P_Score\n"
     ]
    },
    {
     "name": "stderr",
     "output_type": "stream",
     "text": [
      "/Users/charlie/opt/anaconda3/envs/main/lib/python3.10/site-packages/sklearn/impute/_base.py:337: FutureWarning: The 'verbose' parameter was deprecated in version 1.1 and will be removed in 1.3. A warning will always be raised upon the removal of empty columns in the future version.\n",
      "  warnings.warn(\n",
      "/Users/charlie/opt/anaconda3/envs/main/lib/python3.10/site-packages/sklearn/impute/_base.py:337: FutureWarning: The 'verbose' parameter was deprecated in version 1.1 and will be removed in 1.3. A warning will always be raised upon the removal of empty columns in the future version.\n",
      "  warnings.warn(\n",
      "/Users/charlie/opt/anaconda3/envs/main/lib/python3.10/site-packages/sklearn/impute/_base.py:337: FutureWarning: The 'verbose' parameter was deprecated in version 1.1 and will be removed in 1.3. A warning will always be raised upon the removal of empty columns in the future version.\n",
      "  warnings.warn(\n",
      "/Users/charlie/opt/anaconda3/envs/main/lib/python3.10/site-packages/sklearn/impute/_base.py:337: FutureWarning: The 'verbose' parameter was deprecated in version 1.1 and will be removed in 1.3. A warning will always be raised upon the removal of empty columns in the future version.\n",
      "  warnings.warn(\n",
      "/Users/charlie/opt/anaconda3/envs/main/lib/python3.10/site-packages/sklearn/impute/_base.py:337: FutureWarning: The 'verbose' parameter was deprecated in version 1.1 and will be removed in 1.3. A warning will always be raised upon the removal of empty columns in the future version.\n",
      "  warnings.warn(\n",
      "/Users/charlie/opt/anaconda3/envs/main/lib/python3.10/site-packages/sklearn/impute/_base.py:337: FutureWarning: The 'verbose' parameter was deprecated in version 1.1 and will be removed in 1.3. A warning will always be raised upon the removal of empty columns in the future version.\n",
      "  warnings.warn(\n",
      "/Users/charlie/opt/anaconda3/envs/main/lib/python3.10/site-packages/sklearn/impute/_base.py:337: FutureWarning: The 'verbose' parameter was deprecated in version 1.1 and will be removed in 1.3. A warning will always be raised upon the removal of empty columns in the future version.\n",
      "  warnings.warn(\n",
      "/Users/charlie/opt/anaconda3/envs/main/lib/python3.10/site-packages/sklearn/impute/_base.py:337: FutureWarning: The 'verbose' parameter was deprecated in version 1.1 and will be removed in 1.3. A warning will always be raised upon the removal of empty columns in the future version.\n",
      "  warnings.warn(\n",
      "/Users/charlie/opt/anaconda3/envs/main/lib/python3.10/site-packages/sklearn/impute/_base.py:337: FutureWarning: The 'verbose' parameter was deprecated in version 1.1 and will be removed in 1.3. A warning will always be raised upon the removal of empty columns in the future version.\n",
      "  warnings.warn(\n",
      "/Users/charlie/opt/anaconda3/envs/main/lib/python3.10/site-packages/sklearn/impute/_base.py:337: FutureWarning: The 'verbose' parameter was deprecated in version 1.1 and will be removed in 1.3. A warning will always be raised upon the removal of empty columns in the future version.\n",
      "  warnings.warn(\n"
     ]
    },
    {
     "data": {
      "text/html": [
       "<div>\n",
       "<style scoped>\n",
       "    .dataframe tbody tr th:only-of-type {\n",
       "        vertical-align: middle;\n",
       "    }\n",
       "\n",
       "    .dataframe tbody tr th {\n",
       "        vertical-align: top;\n",
       "    }\n",
       "\n",
       "    .dataframe thead th {\n",
       "        text-align: right;\n",
       "    }\n",
       "</style>\n",
       "<table border=\"1\" class=\"dataframe\">\n",
       "  <thead>\n",
       "    <tr style=\"text-align: right;\">\n",
       "      <th></th>\n",
       "      <th>test_score</th>\n",
       "      <th>train_score</th>\n",
       "    </tr>\n",
       "  </thead>\n",
       "  <tbody>\n",
       "    <tr>\n",
       "      <th>0</th>\n",
       "      <td>0.213351</td>\n",
       "      <td>0.268876</td>\n",
       "    </tr>\n",
       "    <tr>\n",
       "      <th>1</th>\n",
       "      <td>0.111979</td>\n",
       "      <td>0.305572</td>\n",
       "    </tr>\n",
       "    <tr>\n",
       "      <th>2</th>\n",
       "      <td>0.191857</td>\n",
       "      <td>0.288644</td>\n",
       "    </tr>\n",
       "    <tr>\n",
       "      <th>3</th>\n",
       "      <td>0.164298</td>\n",
       "      <td>0.301566</td>\n",
       "    </tr>\n",
       "    <tr>\n",
       "      <th>4</th>\n",
       "      <td>0.172211</td>\n",
       "      <td>0.298639</td>\n",
       "    </tr>\n",
       "  </tbody>\n",
       "</table>\n",
       "</div>"
      ],
      "text/plain": [
       "   test_score  train_score\n",
       "0    0.213351     0.268876\n",
       "1    0.111979     0.305572\n",
       "2    0.191857     0.288644\n",
       "3    0.164298     0.301566\n",
       "4    0.172211     0.298639"
      ]
     },
     "metadata": {},
     "output_type": "display_data"
    },
    {
     "data": {
      "image/png": "[encoded data removed]",
      "text/plain": [
       "<Figure size 432x288 with 1 Axes>"
      ]
     },
     "metadata": {
      "needs_background": "light"
     },
     "output_type": "display_data"
    },
    {
     "name": "stdout",
     "output_type": "stream",
     "text": [
      "WHODAS_SR,WHODAS_SR_Score\n"
     ]
    },
    {
     "name": "stderr",
     "output_type": "stream",
     "text": [
      "/Users/charlie/opt/anaconda3/envs/main/lib/python3.10/site-packages/sklearn/impute/_base.py:337: FutureWarning: The 'verbose' parameter was deprecated in version 1.1 and will be removed in 1.3. A warning will always be raised upon the removal of empty columns in the future version.\n",
      "  warnings.warn(\n",
      "/Users/charlie/opt/anaconda3/envs/main/lib/python3.10/site-packages/sklearn/impute/_base.py:337: FutureWarning: The 'verbose' parameter was deprecated in version 1.1 and will be removed in 1.3. A warning will always be raised upon the removal of empty columns in the future version.\n",
      "  warnings.warn(\n",
      "/Users/charlie/opt/anaconda3/envs/main/lib/python3.10/site-packages/sklearn/impute/_base.py:337: FutureWarning: The 'verbose' parameter was deprecated in version 1.1 and will be removed in 1.3. A warning will always be raised upon the removal of empty columns in the future version.\n",
      "  warnings.warn(\n",
      "/Users/charlie/opt/anaconda3/envs/main/lib/python3.10/site-packages/sklearn/impute/_base.py:337: FutureWarning: The 'verbose' parameter was deprecated in version 1.1 and will be removed in 1.3. A warning will always be raised upon the removal of empty columns in the future version.\n",
      "  warnings.warn(\n",
      "/Users/charlie/opt/anaconda3/envs/main/lib/python3.10/site-packages/sklearn/impute/_base.py:337: FutureWarning: The 'verbose' parameter was deprecated in version 1.1 and will be removed in 1.3. A warning will always be raised upon the removal of empty columns in the future version.\n",
      "  warnings.warn(\n",
      "/Users/charlie/opt/anaconda3/envs/main/lib/python3.10/site-packages/sklearn/impute/_base.py:337: FutureWarning: The 'verbose' parameter was deprecated in version 1.1 and will be removed in 1.3. A warning will always be raised upon the removal of empty columns in the future version.\n",
      "  warnings.warn(\n",
      "/Users/charlie/opt/anaconda3/envs/main/lib/python3.10/site-packages/sklearn/impute/_base.py:337: FutureWarning: The 'verbose' parameter was deprecated in version 1.1 and will be removed in 1.3. A warning will always be raised upon the removal of empty columns in the future version.\n",
      "  warnings.warn(\n",
      "/Users/charlie/opt/anaconda3/envs/main/lib/python3.10/site-packages/sklearn/impute/_base.py:337: FutureWarning: The 'verbose' parameter was deprecated in version 1.1 and will be removed in 1.3. A warning will always be raised upon the removal of empty columns in the future version.\n",
      "  warnings.warn(\n",
      "/Users/charlie/opt/anaconda3/envs/main/lib/python3.10/site-packages/sklearn/impute/_base.py:337: FutureWarning: The 'verbose' parameter was deprecated in version 1.1 and will be removed in 1.3. A warning will always be raised upon the removal of empty columns in the future version.\n",
      "  warnings.warn(\n",
      "/Users/charlie/opt/anaconda3/envs/main/lib/python3.10/site-packages/sklearn/impute/_base.py:337: FutureWarning: The 'verbose' parameter was deprecated in version 1.1 and will be removed in 1.3. A warning will always be raised upon the removal of empty columns in the future version.\n",
      "  warnings.warn(\n"
     ]
    },
    {
     "data": {
      "text/html": [
       "<div>\n",
       "<style scoped>\n",
       "    .dataframe tbody tr th:only-of-type {\n",
       "        vertical-align: middle;\n",
       "    }\n",
       "\n",
       "    .dataframe tbody tr th {\n",
       "        vertical-align: top;\n",
       "    }\n",
       "\n",
       "    .dataframe thead th {\n",
       "        text-align: right;\n",
       "    }\n",
       "</style>\n",
       "<table border=\"1\" class=\"dataframe\">\n",
       "  <thead>\n",
       "    <tr style=\"text-align: right;\">\n",
       "      <th></th>\n",
       "      <th>test_score</th>\n",
       "      <th>train_score</th>\n",
       "    </tr>\n",
       "  </thead>\n",
       "  <tbody>\n",
       "    <tr>\n",
       "      <th>0</th>\n",
       "      <td>0.213351</td>\n",
       "      <td>0.268876</td>\n",
       "    </tr>\n",
       "    <tr>\n",
       "      <th>1</th>\n",
       "      <td>0.111979</td>\n",
       "      <td>0.305572</td>\n",
       "    </tr>\n",
       "    <tr>\n",
       "      <th>2</th>\n",
       "      <td>0.191857</td>\n",
       "      <td>0.288644</td>\n",
       "    </tr>\n",
       "    <tr>\n",
       "      <th>3</th>\n",
       "      <td>0.164298</td>\n",
       "      <td>0.301566</td>\n",
       "    </tr>\n",
       "    <tr>\n",
       "      <th>4</th>\n",
       "      <td>0.172211</td>\n",
       "      <td>0.298639</td>\n",
       "    </tr>\n",
       "  </tbody>\n",
       "</table>\n",
       "</div>"
      ],
      "text/plain": [
       "   test_score  train_score\n",
       "0    0.213351     0.268876\n",
       "1    0.111979     0.305572\n",
       "2    0.191857     0.288644\n",
       "3    0.164298     0.301566\n",
       "4    0.172211     0.298639"
      ]
     },
     "metadata": {},
     "output_type": "display_data"
    },
    {
     "data": {
      "image/png": "[encoded data removed]",
      "text/plain": [
       "<Figure size 432x288 with 1 Axes>"
      ]
     },
     "metadata": {
      "needs_background": "light"
     },
     "output_type": "display_data"
    },
    {
     "name": "stdout",
     "output_type": "stream",
     "text": [
      "CIS_SR,CIS_SR_Total\n"
     ]
    },
    {
     "name": "stderr",
     "output_type": "stream",
     "text": [
      "/Users/charlie/opt/anaconda3/envs/main/lib/python3.10/site-packages/sklearn/impute/_base.py:337: FutureWarning: The 'verbose' parameter was deprecated in version 1.1 and will be removed in 1.3. A warning will always be raised upon the removal of empty columns in the future version.\n",
      "  warnings.warn(\n",
      "/Users/charlie/opt/anaconda3/envs/main/lib/python3.10/site-packages/sklearn/impute/_base.py:337: FutureWarning: The 'verbose' parameter was deprecated in version 1.1 and will be removed in 1.3. A warning will always be raised upon the removal of empty columns in the future version.\n",
      "  warnings.warn(\n",
      "/Users/charlie/opt/anaconda3/envs/main/lib/python3.10/site-packages/sklearn/impute/_base.py:337: FutureWarning: The 'verbose' parameter was deprecated in version 1.1 and will be removed in 1.3. A warning will always be raised upon the removal of empty columns in the future version.\n",
      "  warnings.warn(\n",
      "/Users/charlie/opt/anaconda3/envs/main/lib/python3.10/site-packages/sklearn/impute/_base.py:337: FutureWarning: The 'verbose' parameter was deprecated in version 1.1 and will be removed in 1.3. A warning will always be raised upon the removal of empty columns in the future version.\n",
      "  warnings.warn(\n",
      "/Users/charlie/opt/anaconda3/envs/main/lib/python3.10/site-packages/sklearn/impute/_base.py:337: FutureWarning: The 'verbose' parameter was deprecated in version 1.1 and will be removed in 1.3. A warning will always be raised upon the removal of empty columns in the future version.\n",
      "  warnings.warn(\n",
      "/Users/charlie/opt/anaconda3/envs/main/lib/python3.10/site-packages/sklearn/impute/_base.py:337: FutureWarning: The 'verbose' parameter was deprecated in version 1.1 and will be removed in 1.3. A warning will always be raised upon the removal of empty columns in the future version.\n",
      "  warnings.warn(\n",
      "/Users/charlie/opt/anaconda3/envs/main/lib/python3.10/site-packages/sklearn/impute/_base.py:337: FutureWarning: The 'verbose' parameter was deprecated in version 1.1 and will be removed in 1.3. A warning will always be raised upon the removal of empty columns in the future version.\n",
      "  warnings.warn(\n",
      "/Users/charlie/opt/anaconda3/envs/main/lib/python3.10/site-packages/sklearn/impute/_base.py:337: FutureWarning: The 'verbose' parameter was deprecated in version 1.1 and will be removed in 1.3. A warning will always be raised upon the removal of empty columns in the future version.\n",
      "  warnings.warn(\n",
      "/Users/charlie/opt/anaconda3/envs/main/lib/python3.10/site-packages/sklearn/impute/_base.py:337: FutureWarning: The 'verbose' parameter was deprecated in version 1.1 and will be removed in 1.3. A warning will always be raised upon the removal of empty columns in the future version.\n",
      "  warnings.warn(\n",
      "/Users/charlie/opt/anaconda3/envs/main/lib/python3.10/site-packages/sklearn/impute/_base.py:337: FutureWarning: The 'verbose' parameter was deprecated in version 1.1 and will be removed in 1.3. A warning will always be raised upon the removal of empty columns in the future version.\n",
      "  warnings.warn(\n"
     ]
    },
    {
     "data": {
      "text/html": [
       "<div>\n",
       "<style scoped>\n",
       "    .dataframe tbody tr th:only-of-type {\n",
       "        vertical-align: middle;\n",
       "    }\n",
       "\n",
       "    .dataframe tbody tr th {\n",
       "        vertical-align: top;\n",
       "    }\n",
       "\n",
       "    .dataframe thead th {\n",
       "        text-align: right;\n",
       "    }\n",
       "</style>\n",
       "<table border=\"1\" class=\"dataframe\">\n",
       "  <thead>\n",
       "    <tr style=\"text-align: right;\">\n",
       "      <th></th>\n",
       "      <th>test_score</th>\n",
       "      <th>train_score</th>\n",
       "    </tr>\n",
       "  </thead>\n",
       "  <tbody>\n",
       "    <tr>\n",
       "      <th>0</th>\n",
       "      <td>0.213351</td>\n",
       "      <td>0.268876</td>\n",
       "    </tr>\n",
       "    <tr>\n",
       "      <th>1</th>\n",
       "      <td>0.111979</td>\n",
       "      <td>0.305572</td>\n",
       "    </tr>\n",
       "    <tr>\n",
       "      <th>2</th>\n",
       "      <td>0.191857</td>\n",
       "      <td>0.288644</td>\n",
       "    </tr>\n",
       "    <tr>\n",
       "      <th>3</th>\n",
       "      <td>0.164298</td>\n",
       "      <td>0.301566</td>\n",
       "    </tr>\n",
       "    <tr>\n",
       "      <th>4</th>\n",
       "      <td>0.172211</td>\n",
       "      <td>0.298639</td>\n",
       "    </tr>\n",
       "  </tbody>\n",
       "</table>\n",
       "</div>"
      ],
      "text/plain": [
       "   test_score  train_score\n",
       "0    0.213351     0.268876\n",
       "1    0.111979     0.305572\n",
       "2    0.191857     0.288644\n",
       "3    0.164298     0.301566\n",
       "4    0.172211     0.298639"
      ]
     },
     "metadata": {},
     "output_type": "display_data"
    },
    {
     "data": {
      "image/png": "[encoded data removed]",
      "text/plain": [
       "<Figure size 432x288 with 1 Axes>"
      ]
     },
     "metadata": {
      "needs_background": "light"
     },
     "output_type": "display_data"
    },
    {
     "data": {
      "text/html": [
       "<div>\n",
       "<style scoped>\n",
       "    .dataframe tbody tr th:only-of-type {\n",
       "        vertical-align: middle;\n",
       "    }\n",
       "\n",
       "    .dataframe tbody tr th {\n",
       "        vertical-align: top;\n",
       "    }\n",
       "\n",
       "    .dataframe thead th {\n",
       "        text-align: right;\n",
       "    }\n",
       "</style>\n",
       "<table border=\"1\" class=\"dataframe\">\n",
       "  <thead>\n",
       "    <tr style=\"text-align: right;\">\n",
       "      <th></th>\n",
       "      <th>Output</th>\n",
       "      <th>Mean R2</th>\n",
       "      <th>Std R2</th>\n",
       "      <th>Mean MAE</th>\n",
       "      <th>Std MAE</th>\n",
       "      <th>Target Score Range (for MAE interpretation)</th>\n",
       "    </tr>\n",
       "  </thead>\n",
       "  <tbody>\n",
       "    <tr>\n",
       "      <th>0</th>\n",
       "      <td>WHODAS_P,WHODAS_P_Total</td>\n",
       "      <td>0.470210</td>\n",
       "      <td>0.050689</td>\n",
       "      <td>7.689281</td>\n",
       "      <td>0.258804</td>\n",
       "      <td>(0.0, 79.17)</td>\n",
       "    </tr>\n",
       "    <tr>\n",
       "      <th>1</th>\n",
       "      <td>CIS_P,CIS_P_Score</td>\n",
       "      <td>0.715891</td>\n",
       "      <td>0.034294</td>\n",
       "      <td>3.491327</td>\n",
       "      <td>0.068759</td>\n",
       "      <td>(0, 49)</td>\n",
       "    </tr>\n",
       "    <tr>\n",
       "      <th>2</th>\n",
       "      <td>WHODAS_SR,WHODAS_SR_Score</td>\n",
       "      <td>0.067559</td>\n",
       "      <td>0.018531</td>\n",
       "      <td>11.895153</td>\n",
       "      <td>0.580488</td>\n",
       "      <td>(0.0, 100.0)</td>\n",
       "    </tr>\n",
       "    <tr>\n",
       "      <th>3</th>\n",
       "      <td>CIS_SR,CIS_SR_Total</td>\n",
       "      <td>0.170739</td>\n",
       "      <td>0.033936</td>\n",
       "      <td>6.175147</td>\n",
       "      <td>0.293086</td>\n",
       "      <td>(0, 47)</td>\n",
       "    </tr>\n",
       "  </tbody>\n",
       "</table>\n",
       "</div>"
      ],
      "text/plain": [
       "                      Output   Mean R2    Std R2   Mean MAE   Std MAE  \\\n",
       "0    WHODAS_P,WHODAS_P_Total  0.470210  0.050689   7.689281  0.258804   \n",
       "1          CIS_P,CIS_P_Score  0.715891  0.034294   3.491327  0.068759   \n",
       "2  WHODAS_SR,WHODAS_SR_Score  0.067559  0.018531  11.895153  0.580488   \n",
       "3        CIS_SR,CIS_SR_Total  0.170739  0.033936   6.175147  0.293086   \n",
       "\n",
       "  Target Score Range (for MAE interpretation)  \n",
       "0                                (0.0, 79.17)  \n",
       "1                                     (0, 49)  \n",
       "2                                (0.0, 100.0)  \n",
       "3                                     (0, 47)  "
      ]
     },
     "execution_count": 58,
     "metadata": {},
     "output_type": "execute_result"
    }
   ],
   "source": [
    "# Check cross-validation performance of the final model on validation set for all models\n",
    "def plot_test_vs_train_scores(cv_results):\n",
    "    scores = pd.DataFrame(cv_results)[[\"test_score\", \"train_score\"]]\n",
    "    display(scores)\n",
    "    scores.plot.hist(bins=50)\n",
    "    plt.show()\n",
    "\n",
    "results_val_set = []\n",
    "for output in output_cols:\n",
    "    print(output)\n",
    "    estimator = best_estimators[output]\n",
    "    r2_cv_results = cross_validate(estimator, train_set[input_cols], train_set[output], return_train_score = True, scoring=\"r2\")\n",
    "    r2_scores = [np.mean(r2_cv_results[\"test_score\"]), np.std(r2_cv_results[\"test_score\"])]\n",
    "    mae_cv_results = cross_validate(estimator, train_set[input_cols], train_set[output], return_train_score = True, scoring=\"neg_mean_absolute_error\")\n",
    "    mae_scores = [np.mean(-mae_cv_results[\"test_score\"]), np.std(-mae_cv_results[\"test_score\"])]\n",
    "    results_val_set.append([\n",
    "        output, \n",
    "        *r2_scores,\n",
    "        *mae_scores,\n",
    "        get_min_max_for_mae_interpretation(output)])\n",
    "    \n",
    "    plot_test_vs_train_scores(cv_results)\n",
    "restults_val_set_df = pd.DataFrame(results_val_set, columns=[\"Output\"] + [\"Mean R2\", \"Std R2\", \"Mean MAE\", \"Std MAE\", \"Target Score Range (for MAE interpretation)\"])\n",
    "display(restults_val_set_df)"
   ]
  },
  {
   "cell_type": "code",
   "execution_count": 60,
   "id": "7db6e50f",
   "metadata": {},
   "outputs": [
    {
     "data": {
      "text/html": [
       "<div>\n",
       "<style scoped>\n",
       "    .dataframe tbody tr th:only-of-type {\n",
       "        vertical-align: middle;\n",
       "    }\n",
       "\n",
       "    .dataframe tbody tr th {\n",
       "        vertical-align: top;\n",
       "    }\n",
       "\n",
       "    .dataframe thead th {\n",
       "        text-align: right;\n",
       "    }\n",
       "</style>\n",
       "<table border=\"1\" class=\"dataframe\">\n",
       "  <thead>\n",
       "    <tr style=\"text-align: right;\">\n",
       "      <th></th>\n",
       "      <th>Output</th>\n",
       "      <th>Mean R2</th>\n",
       "      <th>Mean MAE</th>\n",
       "      <th>Target Score Range (for MAE interpretation)</th>\n",
       "    </tr>\n",
       "  </thead>\n",
       "  <tbody>\n",
       "    <tr>\n",
       "      <th>0</th>\n",
       "      <td>WHODAS_P,WHODAS_P_Total</td>\n",
       "      <td>0.470210</td>\n",
       "      <td>7.689281</td>\n",
       "      <td>(0.0, 79.17)</td>\n",
       "    </tr>\n",
       "    <tr>\n",
       "      <th>1</th>\n",
       "      <td>CIS_P,CIS_P_Score</td>\n",
       "      <td>0.715891</td>\n",
       "      <td>3.491327</td>\n",
       "      <td>(0, 49)</td>\n",
       "    </tr>\n",
       "    <tr>\n",
       "      <th>2</th>\n",
       "      <td>WHODAS_SR,WHODAS_SR_Score</td>\n",
       "      <td>0.067559</td>\n",
       "      <td>11.895153</td>\n",
       "      <td>(0.0, 100.0)</td>\n",
       "    </tr>\n",
       "    <tr>\n",
       "      <th>3</th>\n",
       "      <td>CIS_SR,CIS_SR_Total</td>\n",
       "      <td>0.170739</td>\n",
       "      <td>6.175147</td>\n",
       "      <td>(0, 47)</td>\n",
       "    </tr>\n",
       "  </tbody>\n",
       "</table>\n",
       "</div>"
      ],
      "text/plain": [
       "                      Output   Mean R2   Mean MAE  \\\n",
       "0    WHODAS_P,WHODAS_P_Total  0.470210   7.689281   \n",
       "1          CIS_P,CIS_P_Score  0.715891   3.491327   \n",
       "2  WHODAS_SR,WHODAS_SR_Score  0.067559  11.895153   \n",
       "3        CIS_SR,CIS_SR_Total  0.170739   6.175147   \n",
       "\n",
       "  Target Score Range (for MAE interpretation)  \n",
       "0                                (0.0, 79.17)  \n",
       "1                                     (0, 49)  \n",
       "2                                (0.0, 100.0)  \n",
       "3                                     (0, 47)  "
      ]
     },
     "metadata": {},
     "output_type": "display_data"
    }
   ],
   "source": [
    "display(restults_val_set_df[[\"Output\", \"Mean R2\", \"Mean MAE\", \"Target Score Range (for MAE interpretation)\"]])"
   ]
  },
  {
   "cell_type": "code",
   "execution_count": 64,
   "id": "a2755931",
   "metadata": {},
   "outputs": [
    {
     "name": "stdout",
     "output_type": "stream",
     "text": [
      "WHODAS_P,WHODAS_P_Total\n",
      "r2:  0.5402023469800292\n"
     ]
    },
    {
     "data": {
      "image/png": "[encoded data removed]",
      "text/plain": [
       "<Figure size 432x288 with 1 Axes>"
      ]
     },
     "metadata": {
      "needs_background": "light"
     },
     "output_type": "display_data"
    },
    {
     "data": {
      "text/html": [
       "<div>\n",
       "<style scoped>\n",
       "    .dataframe tbody tr th:only-of-type {\n",
       "        vertical-align: middle;\n",
       "    }\n",
       "\n",
       "    .dataframe tbody tr th {\n",
       "        vertical-align: top;\n",
       "    }\n",
       "\n",
       "    .dataframe thead th {\n",
       "        text-align: right;\n",
       "    }\n",
       "</style>\n",
       "<table border=\"1\" class=\"dataframe\">\n",
       "  <thead>\n",
       "    <tr style=\"text-align: right;\">\n",
       "      <th></th>\n",
       "      <th>y</th>\n",
       "      <th>y pred</th>\n",
       "    </tr>\n",
       "  </thead>\n",
       "  <tbody>\n",
       "    <tr>\n",
       "      <th>39</th>\n",
       "      <td>29.17</td>\n",
       "      <td>29.641208</td>\n",
       "    </tr>\n",
       "    <tr>\n",
       "      <th>147</th>\n",
       "      <td>29.17</td>\n",
       "      <td>24.272274</td>\n",
       "    </tr>\n",
       "    <tr>\n",
       "      <th>270</th>\n",
       "      <td>29.17</td>\n",
       "      <td>11.661123</td>\n",
       "    </tr>\n",
       "    <tr>\n",
       "      <th>286</th>\n",
       "      <td>29.17</td>\n",
       "      <td>8.389591</td>\n",
       "    </tr>\n",
       "    <tr>\n",
       "      <th>315</th>\n",
       "      <td>29.17</td>\n",
       "      <td>30.053342</td>\n",
       "    </tr>\n",
       "    <tr>\n",
       "      <th>411</th>\n",
       "      <td>29.17</td>\n",
       "      <td>11.668551</td>\n",
       "    </tr>\n",
       "    <tr>\n",
       "      <th>429</th>\n",
       "      <td>29.17</td>\n",
       "      <td>23.358282</td>\n",
       "    </tr>\n",
       "    <tr>\n",
       "      <th>433</th>\n",
       "      <td>29.17</td>\n",
       "      <td>8.991701</td>\n",
       "    </tr>\n",
       "  </tbody>\n",
       "</table>\n",
       "</div>"
      ],
      "text/plain": [
       "         y     y pred\n",
       "39   29.17  29.641208\n",
       "147  29.17  24.272274\n",
       "270  29.17  11.661123\n",
       "286  29.17   8.389591\n",
       "315  29.17  30.053342\n",
       "411  29.17  11.668551\n",
       "429  29.17  23.358282\n",
       "433  29.17   8.991701"
      ]
     },
     "metadata": {},
     "output_type": "display_data"
    },
    {
     "name": "stdout",
     "output_type": "stream",
     "text": [
      "CIS_P,CIS_P_Score\n",
      "r2:  0.7602502630510777\n"
     ]
    },
    {
     "data": {
      "image/png": "[encoded data removed]",
      "text/plain": [
       "<Figure size 432x288 with 1 Axes>"
      ]
     },
     "metadata": {
      "needs_background": "light"
     },
     "output_type": "display_data"
    },
    {
     "data": {
      "text/html": [
       "<div>\n",
       "<style scoped>\n",
       "    .dataframe tbody tr th:only-of-type {\n",
       "        vertical-align: middle;\n",
       "    }\n",
       "\n",
       "    .dataframe tbody tr th {\n",
       "        vertical-align: top;\n",
       "    }\n",
       "\n",
       "    .dataframe thead th {\n",
       "        text-align: right;\n",
       "    }\n",
       "</style>\n",
       "<table border=\"1\" class=\"dataframe\">\n",
       "  <thead>\n",
       "    <tr style=\"text-align: right;\">\n",
       "      <th></th>\n",
       "      <th>y</th>\n",
       "      <th>y pred</th>\n",
       "    </tr>\n",
       "  </thead>\n",
       "  <tbody>\n",
       "    <tr>\n",
       "      <th>0</th>\n",
       "      <td>31</td>\n",
       "      <td>27.715612</td>\n",
       "    </tr>\n",
       "    <tr>\n",
       "      <th>22</th>\n",
       "      <td>31</td>\n",
       "      <td>21.743435</td>\n",
       "    </tr>\n",
       "    <tr>\n",
       "      <th>39</th>\n",
       "      <td>30</td>\n",
       "      <td>30.763782</td>\n",
       "    </tr>\n",
       "    <tr>\n",
       "      <th>42</th>\n",
       "      <td>30</td>\n",
       "      <td>27.887864</td>\n",
       "    </tr>\n",
       "    <tr>\n",
       "      <th>119</th>\n",
       "      <td>31</td>\n",
       "      <td>26.546374</td>\n",
       "    </tr>\n",
       "    <tr>\n",
       "      <th>143</th>\n",
       "      <td>31</td>\n",
       "      <td>23.579096</td>\n",
       "    </tr>\n",
       "    <tr>\n",
       "      <th>177</th>\n",
       "      <td>30</td>\n",
       "      <td>34.281387</td>\n",
       "    </tr>\n",
       "    <tr>\n",
       "      <th>190</th>\n",
       "      <td>29</td>\n",
       "      <td>30.587972</td>\n",
       "    </tr>\n",
       "    <tr>\n",
       "      <th>192</th>\n",
       "      <td>31</td>\n",
       "      <td>27.646134</td>\n",
       "    </tr>\n",
       "    <tr>\n",
       "      <th>229</th>\n",
       "      <td>31</td>\n",
       "      <td>30.185860</td>\n",
       "    </tr>\n",
       "    <tr>\n",
       "      <th>273</th>\n",
       "      <td>31</td>\n",
       "      <td>17.763192</td>\n",
       "    </tr>\n",
       "    <tr>\n",
       "      <th>291</th>\n",
       "      <td>29</td>\n",
       "      <td>25.587428</td>\n",
       "    </tr>\n",
       "    <tr>\n",
       "      <th>306</th>\n",
       "      <td>30</td>\n",
       "      <td>23.016764</td>\n",
       "    </tr>\n",
       "    <tr>\n",
       "      <th>339</th>\n",
       "      <td>31</td>\n",
       "      <td>24.258282</td>\n",
       "    </tr>\n",
       "    <tr>\n",
       "      <th>387</th>\n",
       "      <td>30</td>\n",
       "      <td>28.889383</td>\n",
       "    </tr>\n",
       "    <tr>\n",
       "      <th>425</th>\n",
       "      <td>30</td>\n",
       "      <td>27.260179</td>\n",
       "    </tr>\n",
       "    <tr>\n",
       "      <th>436</th>\n",
       "      <td>30</td>\n",
       "      <td>31.512150</td>\n",
       "    </tr>\n",
       "    <tr>\n",
       "      <th>457</th>\n",
       "      <td>29</td>\n",
       "      <td>29.221116</td>\n",
       "    </tr>\n",
       "    <tr>\n",
       "      <th>472</th>\n",
       "      <td>31</td>\n",
       "      <td>22.345616</td>\n",
       "    </tr>\n",
       "    <tr>\n",
       "      <th>477</th>\n",
       "      <td>29</td>\n",
       "      <td>21.247162</td>\n",
       "    </tr>\n",
       "    <tr>\n",
       "      <th>483</th>\n",
       "      <td>31</td>\n",
       "      <td>32.044313</td>\n",
       "    </tr>\n",
       "    <tr>\n",
       "      <th>487</th>\n",
       "      <td>31</td>\n",
       "      <td>14.902007</td>\n",
       "    </tr>\n",
       "    <tr>\n",
       "      <th>511</th>\n",
       "      <td>30</td>\n",
       "      <td>26.977799</td>\n",
       "    </tr>\n",
       "  </tbody>\n",
       "</table>\n",
       "</div>"
      ],
      "text/plain": [
       "      y     y pred\n",
       "0    31  27.715612\n",
       "22   31  21.743435\n",
       "39   30  30.763782\n",
       "42   30  27.887864\n",
       "119  31  26.546374\n",
       "143  31  23.579096\n",
       "177  30  34.281387\n",
       "190  29  30.587972\n",
       "192  31  27.646134\n",
       "229  31  30.185860\n",
       "273  31  17.763192\n",
       "291  29  25.587428\n",
       "306  30  23.016764\n",
       "339  31  24.258282\n",
       "387  30  28.889383\n",
       "425  30  27.260179\n",
       "436  30  31.512150\n",
       "457  29  29.221116\n",
       "472  31  22.345616\n",
       "477  29  21.247162\n",
       "483  31  32.044313\n",
       "487  31  14.902007\n",
       "511  30  26.977799"
      ]
     },
     "metadata": {},
     "output_type": "display_data"
    },
    {
     "name": "stdout",
     "output_type": "stream",
     "text": [
      "WHODAS_SR,WHODAS_SR_Score\n",
      "r2:  0.23210193591389627\n"
     ]
    },
    {
     "data": {
      "image/png": "[encoded data removed]",
      "text/plain": [
       "<Figure size 432x288 with 1 Axes>"
      ]
     },
     "metadata": {
      "needs_background": "light"
     },
     "output_type": "display_data"
    },
    {
     "data": {
      "text/html": [
       "<div>\n",
       "<style scoped>\n",
       "    .dataframe tbody tr th:only-of-type {\n",
       "        vertical-align: middle;\n",
       "    }\n",
       "\n",
       "    .dataframe tbody tr th {\n",
       "        vertical-align: top;\n",
       "    }\n",
       "\n",
       "    .dataframe thead th {\n",
       "        text-align: right;\n",
       "    }\n",
       "</style>\n",
       "<table border=\"1\" class=\"dataframe\">\n",
       "  <thead>\n",
       "    <tr style=\"text-align: right;\">\n",
       "      <th></th>\n",
       "      <th>y</th>\n",
       "      <th>y pred</th>\n",
       "    </tr>\n",
       "  </thead>\n",
       "  <tbody>\n",
       "    <tr>\n",
       "      <th>27</th>\n",
       "      <td>29.17</td>\n",
       "      <td>20.125256</td>\n",
       "    </tr>\n",
       "    <tr>\n",
       "      <th>53</th>\n",
       "      <td>29.17</td>\n",
       "      <td>14.380219</td>\n",
       "    </tr>\n",
       "    <tr>\n",
       "      <th>135</th>\n",
       "      <td>29.17</td>\n",
       "      <td>21.326567</td>\n",
       "    </tr>\n",
       "    <tr>\n",
       "      <th>148</th>\n",
       "      <td>29.17</td>\n",
       "      <td>14.225596</td>\n",
       "    </tr>\n",
       "    <tr>\n",
       "      <th>188</th>\n",
       "      <td>29.17</td>\n",
       "      <td>21.379696</td>\n",
       "    </tr>\n",
       "    <tr>\n",
       "      <th>194</th>\n",
       "      <td>29.17</td>\n",
       "      <td>18.389400</td>\n",
       "    </tr>\n",
       "    <tr>\n",
       "      <th>255</th>\n",
       "      <td>29.17</td>\n",
       "      <td>17.638148</td>\n",
       "    </tr>\n",
       "    <tr>\n",
       "      <th>281</th>\n",
       "      <td>29.17</td>\n",
       "      <td>17.257696</td>\n",
       "    </tr>\n",
       "    <tr>\n",
       "      <th>298</th>\n",
       "      <td>29.17</td>\n",
       "      <td>19.594564</td>\n",
       "    </tr>\n",
       "    <tr>\n",
       "      <th>366</th>\n",
       "      <td>29.17</td>\n",
       "      <td>12.601084</td>\n",
       "    </tr>\n",
       "    <tr>\n",
       "      <th>367</th>\n",
       "      <td>29.17</td>\n",
       "      <td>19.629613</td>\n",
       "    </tr>\n",
       "    <tr>\n",
       "      <th>421</th>\n",
       "      <td>29.17</td>\n",
       "      <td>21.545615</td>\n",
       "    </tr>\n",
       "    <tr>\n",
       "      <th>466</th>\n",
       "      <td>29.17</td>\n",
       "      <td>14.949752</td>\n",
       "    </tr>\n",
       "  </tbody>\n",
       "</table>\n",
       "</div>"
      ],
      "text/plain": [
       "         y     y pred\n",
       "27   29.17  20.125256\n",
       "53   29.17  14.380219\n",
       "135  29.17  21.326567\n",
       "148  29.17  14.225596\n",
       "188  29.17  21.379696\n",
       "194  29.17  18.389400\n",
       "255  29.17  17.638148\n",
       "281  29.17  17.257696\n",
       "298  29.17  19.594564\n",
       "366  29.17  12.601084\n",
       "367  29.17  19.629613\n",
       "421  29.17  21.545615\n",
       "466  29.17  14.949752"
      ]
     },
     "metadata": {},
     "output_type": "display_data"
    },
    {
     "name": "stdout",
     "output_type": "stream",
     "text": [
      "CIS_SR,CIS_SR_Total\n",
      "r2:  0.24055228217867297\n"
     ]
    },
    {
     "data": {
      "image/png": "[encoded data removed]",
      "text/plain": [
       "<Figure size 432x288 with 1 Axes>"
      ]
     },
     "metadata": {
      "needs_background": "light"
     },
     "output_type": "display_data"
    },
    {
     "data": {
      "text/html": [
       "<div>\n",
       "<style scoped>\n",
       "    .dataframe tbody tr th:only-of-type {\n",
       "        vertical-align: middle;\n",
       "    }\n",
       "\n",
       "    .dataframe tbody tr th {\n",
       "        vertical-align: top;\n",
       "    }\n",
       "\n",
       "    .dataframe thead th {\n",
       "        text-align: right;\n",
       "    }\n",
       "</style>\n",
       "<table border=\"1\" class=\"dataframe\">\n",
       "  <thead>\n",
       "    <tr style=\"text-align: right;\">\n",
       "      <th></th>\n",
       "      <th>y</th>\n",
       "      <th>y pred</th>\n",
       "    </tr>\n",
       "  </thead>\n",
       "  <tbody>\n",
       "    <tr>\n",
       "      <th>0</th>\n",
       "      <td>30</td>\n",
       "      <td>20.410671</td>\n",
       "    </tr>\n",
       "    <tr>\n",
       "      <th>43</th>\n",
       "      <td>31</td>\n",
       "      <td>16.765582</td>\n",
       "    </tr>\n",
       "    <tr>\n",
       "      <th>46</th>\n",
       "      <td>29</td>\n",
       "      <td>12.884196</td>\n",
       "    </tr>\n",
       "    <tr>\n",
       "      <th>91</th>\n",
       "      <td>31</td>\n",
       "      <td>16.265902</td>\n",
       "    </tr>\n",
       "    <tr>\n",
       "      <th>98</th>\n",
       "      <td>30</td>\n",
       "      <td>9.976014</td>\n",
       "    </tr>\n",
       "    <tr>\n",
       "      <th>106</th>\n",
       "      <td>30</td>\n",
       "      <td>12.637787</td>\n",
       "    </tr>\n",
       "    <tr>\n",
       "      <th>190</th>\n",
       "      <td>29</td>\n",
       "      <td>15.744651</td>\n",
       "    </tr>\n",
       "    <tr>\n",
       "      <th>207</th>\n",
       "      <td>29</td>\n",
       "      <td>6.348041</td>\n",
       "    </tr>\n",
       "    <tr>\n",
       "      <th>234</th>\n",
       "      <td>31</td>\n",
       "      <td>12.693486</td>\n",
       "    </tr>\n",
       "    <tr>\n",
       "      <th>321</th>\n",
       "      <td>31</td>\n",
       "      <td>17.150626</td>\n",
       "    </tr>\n",
       "    <tr>\n",
       "      <th>434</th>\n",
       "      <td>31</td>\n",
       "      <td>16.266914</td>\n",
       "    </tr>\n",
       "    <tr>\n",
       "      <th>483</th>\n",
       "      <td>31</td>\n",
       "      <td>15.417457</td>\n",
       "    </tr>\n",
       "    <tr>\n",
       "      <th>505</th>\n",
       "      <td>29</td>\n",
       "      <td>13.055884</td>\n",
       "    </tr>\n",
       "  </tbody>\n",
       "</table>\n",
       "</div>"
      ],
      "text/plain": [
       "      y     y pred\n",
       "0    30  20.410671\n",
       "43   31  16.765582\n",
       "46   29  12.884196\n",
       "91   31  16.265902\n",
       "98   30   9.976014\n",
       "106  30  12.637787\n",
       "190  29  15.744651\n",
       "207  29   6.348041\n",
       "234  31  12.693486\n",
       "321  31  17.150626\n",
       "434  31  16.266914\n",
       "483  31  15.417457\n",
       "505  29  13.055884"
      ]
     },
     "metadata": {},
     "output_type": "display_data"
    },
    {
     "data": {
      "text/html": [
       "<div>\n",
       "<style scoped>\n",
       "    .dataframe tbody tr th:only-of-type {\n",
       "        vertical-align: middle;\n",
       "    }\n",
       "\n",
       "    .dataframe tbody tr th {\n",
       "        vertical-align: top;\n",
       "    }\n",
       "\n",
       "    .dataframe thead th {\n",
       "        text-align: right;\n",
       "    }\n",
       "</style>\n",
       "<table border=\"1\" class=\"dataframe\">\n",
       "  <thead>\n",
       "    <tr style=\"text-align: right;\">\n",
       "      <th></th>\n",
       "      <th>Output</th>\n",
       "      <th>r2</th>\n",
       "      <th>MAE</th>\n",
       "      <th>Target Score Range (for MAE interpretation)</th>\n",
       "    </tr>\n",
       "  </thead>\n",
       "  <tbody>\n",
       "    <tr>\n",
       "      <th>1</th>\n",
       "      <td>CIS_P,CIS_P_Score</td>\n",
       "      <td>0.760250</td>\n",
       "      <td>3.351484</td>\n",
       "      <td>(0, 49)</td>\n",
       "    </tr>\n",
       "    <tr>\n",
       "      <th>0</th>\n",
       "      <td>WHODAS_P,WHODAS_P_Total</td>\n",
       "      <td>0.540202</td>\n",
       "      <td>6.871698</td>\n",
       "      <td>(0.0, 79.17)</td>\n",
       "    </tr>\n",
       "    <tr>\n",
       "      <th>3</th>\n",
       "      <td>CIS_SR,CIS_SR_Total</td>\n",
       "      <td>0.240552</td>\n",
       "      <td>5.752031</td>\n",
       "      <td>(0, 47)</td>\n",
       "    </tr>\n",
       "    <tr>\n",
       "      <th>2</th>\n",
       "      <td>WHODAS_SR,WHODAS_SR_Score</td>\n",
       "      <td>0.232102</td>\n",
       "      <td>9.933410</td>\n",
       "      <td>(0.0, 100.0)</td>\n",
       "    </tr>\n",
       "  </tbody>\n",
       "</table>\n",
       "</div>"
      ],
      "text/plain": [
       "                      Output        r2       MAE  \\\n",
       "1          CIS_P,CIS_P_Score  0.760250  3.351484   \n",
       "0    WHODAS_P,WHODAS_P_Total  0.540202  6.871698   \n",
       "3        CIS_SR,CIS_SR_Total  0.240552  5.752031   \n",
       "2  WHODAS_SR,WHODAS_SR_Score  0.232102  9.933410   \n",
       "\n",
       "  Target Score Range (for MAE interpretation)  \n",
       "1                                     (0, 49)  \n",
       "0                                (0.0, 79.17)  \n",
       "3                                     (0, 47)  \n",
       "2                                (0.0, 100.0)  "
      ]
     },
     "execution_count": 64,
     "metadata": {},
     "output_type": "execute_result"
    }
   ],
   "source": [
    "# Check performance of the final model on test set for all models\n",
    "\n",
    "results_test_set = []\n",
    "for output in output_cols:\n",
    "    estimator = best_estimators[output]\n",
    "    metrics = get_metrics(estimator, output, input_cols, 'test', 1)\n",
    "    results_test_set.append([\n",
    "        output, \n",
    "        *metrics])\n",
    "restults_test_set_df = pd.DataFrame(results_test_set, columns=[\"Output\"] + metric_names)\n",
    "restults_test_set_df.sort_values(by=\"r2\", ascending=False)"
   ]
  },
  {
   "cell_type": "markdown",
   "id": "8c0cc4b5",
   "metadata": {},
   "source": [
    "### Feature importance"
   ]
  },
  {
   "cell_type": "code",
   "execution_count": 44,
   "id": "29f94091",
   "metadata": {},
   "outputs": [
    {
     "name": "stderr",
     "output_type": "stream",
     "text": [
      "/Users/charlie/opt/anaconda3/envs/main/lib/python3.10/site-packages/sklearn/base.py:329: UserWarning: Trying to unpickle estimator SimpleImputer from version 1.0.2 when using version 1.1.1. This might lead to breaking code or invalid results. Use at your own risk. For more info please refer to:\n",
      "https://scikit-learn.org/stable/model_persistence.html#security-maintainability-limitations\n",
      "  warnings.warn(\n",
      "/Users/charlie/opt/anaconda3/envs/main/lib/python3.10/site-packages/sklearn/base.py:329: UserWarning: Trying to unpickle estimator StandardScaler from version 1.0.2 when using version 1.1.1. This might lead to breaking code or invalid results. Use at your own risk. For more info please refer to:\n",
      "https://scikit-learn.org/stable/model_persistence.html#security-maintainability-limitations\n",
      "  warnings.warn(\n",
      "/Users/charlie/opt/anaconda3/envs/main/lib/python3.10/site-packages/sklearn/base.py:329: UserWarning: Trying to unpickle estimator ElasticNet from version 1.0.2 when using version 1.1.1. This might lead to breaking code or invalid results. Use at your own risk. For more info please refer to:\n",
      "https://scikit-learn.org/stable/model_persistence.html#security-maintainability-limitations\n",
      "  warnings.warn(\n",
      "/Users/charlie/opt/anaconda3/envs/main/lib/python3.10/site-packages/sklearn/base.py:329: UserWarning: Trying to unpickle estimator Pipeline from version 1.0.2 when using version 1.1.1. This might lead to breaking code or invalid results. Use at your own risk. For more info please refer to:\n",
      "https://scikit-learn.org/stable/model_persistence.html#security-maintainability-limitations\n",
      "  warnings.warn(\n",
      "/Users/charlie/opt/anaconda3/envs/main/lib/python3.10/site-packages/sklearn/base.py:329: UserWarning: Trying to unpickle estimator DecisionTreeRegressor from version 1.0.2 when using version 1.1.1. This might lead to breaking code or invalid results. Use at your own risk. For more info please refer to:\n",
      "https://scikit-learn.org/stable/model_persistence.html#security-maintainability-limitations\n",
      "  warnings.warn(\n",
      "/Users/charlie/opt/anaconda3/envs/main/lib/python3.10/site-packages/sklearn/base.py:329: UserWarning: Trying to unpickle estimator RandomForestRegressor from version 1.0.2 when using version 1.1.1. This might lead to breaking code or invalid results. Use at your own risk. For more info please refer to:\n",
      "https://scikit-learn.org/stable/model_persistence.html#security-maintainability-limitations\n",
      "  warnings.warn(\n"
     ]
    }
   ],
   "source": [
    "if IMPORTANCES_FROM_FILE == 1:\n",
    "    forward_feature_objects = {}\n",
    "    backward_feature_objects = {}\n",
    "    try:\n",
    "        forward_feature_objects = load('forward-sfs-imp-item-lvl.joblib')\n",
    "    except Exception as e: print(e)"
   ]
  },
  {
   "cell_type": "code",
   "execution_count": 45,
   "id": "9e8ae6c7",
   "metadata": {},
   "outputs": [],
   "source": [
    "# Find elbow of the curve (draw a line from the first to the last point of the curve and then find the data point that is farthest away from that line) https://stackoverflow.com/questions/2018178/finding-the-best-trade-off-point-on-a-curve \n",
    "def find_elbow(curve):\n",
    "    from numpy import matlib \n",
    "    n_points = len(curve)\n",
    "    all_coord = np.vstack((range(n_points), curve)).T\n",
    "    first_point = all_coord[0]\n",
    "    line_vec = all_coord[-1] - all_coord[0]\n",
    "    line_vec_norm = line_vec / np.sqrt(np.sum(line_vec**2))\n",
    "    vec_from_first = all_coord - first_point\n",
    "    scalar_product = np.sum(vec_from_first * np.matlib.repmat(line_vec_norm, n_points, 1), axis=1)\n",
    "    vec_from_first_parallel = np.outer(scalar_product, line_vec_norm)\n",
    "    vec_to_line = vec_from_first - vec_from_first_parallel\n",
    "    dist_to_line = np.sqrt(np.sum(vec_to_line ** 2, axis=1))\n",
    "    idx_of_best_point = np.argmax(dist_to_line)\n",
    "    return idx_of_best_point + 1\n",
    "\n",
    "def analyze_importances(importances):\n",
    "    importances_list = []\n",
    "    for key in importances:\n",
    "        importances_list.append(importances[key]['avg_score'])\n",
    "    importances_df = pd.DataFrame(importances_list, index=importances.keys(), columns=[\"r2\"])\n",
    "    display(importances_df)\n",
    "\n",
    "    max_score = max(importances_list)\n",
    "    n_cols_max_score = importances_df[importances_df[\"r2\"] == max_score].index[0]\n",
    "    print(\"Max score: \", max_score, \" at \", n_cols_max_score, \" features\")\n",
    "    features_up_to_max_score = importances[n_cols_max_score][\"feature_names\"]\n",
    "\n",
    "    plt.figure(figsize=(16,8))\n",
    "    plt.plot(importances_df)\n",
    "    plt.xticks(np.arange(1,100, 3))\n",
    "    plt.vlines(np.arange(1,100, 3), ymin=min(importances_list), ymax=max(importances_list), colors='purple', ls=':', lw=1)\n",
    "    plt.show()\n",
    "    \n",
    "    optimal_nb_features = find_elbow(importances_list)\n",
    "    print(\"Optimal number of features: \", optimal_nb_features)\n",
    "    \n",
    "    features_up_to_optimal = importances[optimal_nb_features][\"feature_names\"]\n",
    "    display(features_up_to_optimal)\n",
    "    \n",
    "    return (features_up_to_optimal, features_up_to_max_score)"
   ]
  },
  {
   "cell_type": "code",
   "execution_count": 46,
   "id": "62daf8a3",
   "metadata": {},
   "outputs": [],
   "source": [
    "from mlxtend.feature_selection import SequentialFeatureSelector\n",
    "\n",
    "if IMPORTANCES_FROM_FILE == 0:\n",
    "    forward_feature_subsets = {}\n",
    "    forward_feature_objects = {}\n",
    "    for output in output_cols:\n",
    "        print(output)\n",
    "        estimator = best_estimators[output]\n",
    "\n",
    "        sfs = SequentialFeatureSelector(estimator, \n",
    "              k_features=100,\n",
    "              forward=True, \n",
    "              scoring='r2',\n",
    "              cv=3,\n",
    "              n_jobs=-1)\n",
    "\n",
    "        sfs = sfs.fit(train_set[input_cols], train_set[output])\n",
    "\n",
    "        forward_feature_subsets[output] = sfs.subsets_\n",
    "        forward_feature_objects[output] = sfs\n",
    "        \n",
    "        analyze_importances(forward_feature_objects[output].subsets_)"
   ]
  },
  {
   "cell_type": "code",
   "execution_count": 47,
   "id": "cc1a05c6",
   "metadata": {},
   "outputs": [],
   "source": [
    "# Save importances to file\n",
    "if IMPORTANCES_FROM_FILE == 0:\n",
    "    dump(forward_feature_objects, 'forward-sfs-imp-item-lvl.joblib', compress=1)"
   ]
  },
  {
   "cell_type": "code",
   "execution_count": 48,
   "id": "a32333df",
   "metadata": {
    "scrolled": false
   },
   "outputs": [
    {
     "name": "stdout",
     "output_type": "stream",
     "text": [
      "WHODAS_P,WHODAS_P_Total\n"
     ]
    },
    {
     "data": {
      "text/html": [
       "<div>\n",
       "<style scoped>\n",
       "    .dataframe tbody tr th:only-of-type {\n",
       "        vertical-align: middle;\n",
       "    }\n",
       "\n",
       "    .dataframe tbody tr th {\n",
       "        vertical-align: top;\n",
       "    }\n",
       "\n",
       "    .dataframe thead th {\n",
       "        text-align: right;\n",
       "    }\n",
       "</style>\n",
       "<table border=\"1\" class=\"dataframe\">\n",
       "  <thead>\n",
       "    <tr style=\"text-align: right;\">\n",
       "      <th></th>\n",
       "      <th>r2</th>\n",
       "    </tr>\n",
       "  </thead>\n",
       "  <tbody>\n",
       "    <tr>\n",
       "      <th>1</th>\n",
       "      <td>0.174862</td>\n",
       "    </tr>\n",
       "    <tr>\n",
       "      <th>2</th>\n",
       "      <td>0.272092</td>\n",
       "    </tr>\n",
       "    <tr>\n",
       "      <th>3</th>\n",
       "      <td>0.331146</td>\n",
       "    </tr>\n",
       "    <tr>\n",
       "      <th>4</th>\n",
       "      <td>0.363643</td>\n",
       "    </tr>\n",
       "    <tr>\n",
       "      <th>5</th>\n",
       "      <td>0.387115</td>\n",
       "    </tr>\n",
       "    <tr>\n",
       "      <th>...</th>\n",
       "      <td>...</td>\n",
       "    </tr>\n",
       "    <tr>\n",
       "      <th>96</th>\n",
       "      <td>0.553514</td>\n",
       "    </tr>\n",
       "    <tr>\n",
       "      <th>97</th>\n",
       "      <td>0.553523</td>\n",
       "    </tr>\n",
       "    <tr>\n",
       "      <th>98</th>\n",
       "      <td>0.553528</td>\n",
       "    </tr>\n",
       "    <tr>\n",
       "      <th>99</th>\n",
       "      <td>0.553531</td>\n",
       "    </tr>\n",
       "    <tr>\n",
       "      <th>100</th>\n",
       "      <td>0.553531</td>\n",
       "    </tr>\n",
       "  </tbody>\n",
       "</table>\n",
       "<p>100 rows × 1 columns</p>\n",
       "</div>"
      ],
      "text/plain": [
       "           r2\n",
       "1    0.174862\n",
       "2    0.272092\n",
       "3    0.331146\n",
       "4    0.363643\n",
       "5    0.387115\n",
       "..        ...\n",
       "96   0.553514\n",
       "97   0.553523\n",
       "98   0.553528\n",
       "99   0.553531\n",
       "100  0.553531\n",
       "\n",
       "[100 rows x 1 columns]"
      ]
     },
     "metadata": {},
     "output_type": "display_data"
    },
    {
     "name": "stdout",
     "output_type": "stream",
     "text": [
      "Max score:  0.5535311165293016  at  100  features\n"
     ]
    },
    {
     "data": {
      "image/png": "[encoded data removed]",
      "text/plain": [
       "<Figure size 1152x576 with 1 Axes>"
      ]
     },
     "metadata": {
      "needs_background": "light"
     },
     "output_type": "display_data"
    },
    {
     "name": "stdout",
     "output_type": "stream",
     "text": [
      "Optimal number of features:  17\n"
     ]
    },
    {
     "data": {
      "text/plain": [
       "('SympChck,CSC_18C',\n",
       " 'ASSQ,ASSQ_24',\n",
       " 'SDQ,SDQ_26',\n",
       " 'SDQ,SDQ_29_b',\n",
       " 'SRS,SRS_01',\n",
       " 'SRS,SRS_34',\n",
       " 'SRS,SRS_37',\n",
       " 'SRS,SRS_44',\n",
       " 'SRS,SRS_49',\n",
       " 'CBCL,CBCL_04',\n",
       " 'CBCL,CBCL_24',\n",
       " 'CBCL,CBCL_62',\n",
       " 'ESWAN,SocAnx_05',\n",
       " 'MFQ_P,MFQ_P_06',\n",
       " 'MFQ_P,MFQ_P_21',\n",
       " 'PSI,PSI_21',\n",
       " 'RBS,RBS_02')"
      ]
     },
     "metadata": {},
     "output_type": "display_data"
    },
    {
     "name": "stdout",
     "output_type": "stream",
     "text": [
      "Score using all features: \n",
      "WHODAS_P,WHODAS_P_Total\n",
      "r2:  0.48151379535572725\n"
     ]
    },
    {
     "data": {
      "image/png": "[encoded data removed]",
      "text/plain": [
       "<Figure size 432x288 with 1 Axes>"
      ]
     },
     "metadata": {
      "needs_background": "light"
     },
     "output_type": "display_data"
    },
    {
     "name": "stdout",
     "output_type": "stream",
     "text": [
      "R2:  0.48151379535572725\n",
      "Performance on test set using optimal number of columns: \n",
      "WHODAS_P,WHODAS_P_Total\n",
      "r2:  0.48445571582502067\n"
     ]
    },
    {
     "data": {
      "image/png": "[encoded data removed]",
      "text/plain": [
       "<Figure size 432x288 with 1 Axes>"
      ]
     },
     "metadata": {
      "needs_background": "light"
     },
     "output_type": "display_data"
    },
    {
     "name": "stdout",
     "output_type": "stream",
     "text": [
      "R2:  0.48445571582502067\n",
      "Performance on test set using number of columns with maximum score\n",
      "WHODAS_P,WHODAS_P_Total\n",
      "r2:  0.5008692953823204\n"
     ]
    },
    {
     "data": {
      "image/png": "[encoded data removed]",
      "text/plain": [
       "<Figure size 432x288 with 1 Axes>"
      ]
     },
     "metadata": {
      "needs_background": "light"
     },
     "output_type": "display_data"
    },
    {
     "name": "stdout",
     "output_type": "stream",
     "text": [
      "R2:  0.5008692953823204\n",
      "CIS_P,CIS_P_Score\n"
     ]
    },
    {
     "data": {
      "text/html": [
       "<div>\n",
       "<style scoped>\n",
       "    .dataframe tbody tr th:only-of-type {\n",
       "        vertical-align: middle;\n",
       "    }\n",
       "\n",
       "    .dataframe tbody tr th {\n",
       "        vertical-align: top;\n",
       "    }\n",
       "\n",
       "    .dataframe thead th {\n",
       "        text-align: right;\n",
       "    }\n",
       "</style>\n",
       "<table border=\"1\" class=\"dataframe\">\n",
       "  <thead>\n",
       "    <tr style=\"text-align: right;\">\n",
       "      <th></th>\n",
       "      <th>r2</th>\n",
       "    </tr>\n",
       "  </thead>\n",
       "  <tbody>\n",
       "    <tr>\n",
       "      <th>1</th>\n",
       "      <td>0.338756</td>\n",
       "    </tr>\n",
       "    <tr>\n",
       "      <th>2</th>\n",
       "      <td>0.469494</td>\n",
       "    </tr>\n",
       "    <tr>\n",
       "      <th>3</th>\n",
       "      <td>0.533616</td>\n",
       "    </tr>\n",
       "    <tr>\n",
       "      <th>4</th>\n",
       "      <td>0.568230</td>\n",
       "    </tr>\n",
       "    <tr>\n",
       "      <th>5</th>\n",
       "      <td>0.599893</td>\n",
       "    </tr>\n",
       "    <tr>\n",
       "      <th>...</th>\n",
       "      <td>...</td>\n",
       "    </tr>\n",
       "    <tr>\n",
       "      <th>96</th>\n",
       "      <td>0.756790</td>\n",
       "    </tr>\n",
       "    <tr>\n",
       "      <th>97</th>\n",
       "      <td>0.756813</td>\n",
       "    </tr>\n",
       "    <tr>\n",
       "      <th>98</th>\n",
       "      <td>0.756832</td>\n",
       "    </tr>\n",
       "    <tr>\n",
       "      <th>99</th>\n",
       "      <td>0.756850</td>\n",
       "    </tr>\n",
       "    <tr>\n",
       "      <th>100</th>\n",
       "      <td>0.756858</td>\n",
       "    </tr>\n",
       "  </tbody>\n",
       "</table>\n",
       "<p>100 rows × 1 columns</p>\n",
       "</div>"
      ],
      "text/plain": [
       "           r2\n",
       "1    0.338756\n",
       "2    0.469494\n",
       "3    0.533616\n",
       "4    0.568230\n",
       "5    0.599893\n",
       "..        ...\n",
       "96   0.756790\n",
       "97   0.756813\n",
       "98   0.756832\n",
       "99   0.756850\n",
       "100  0.756858\n",
       "\n",
       "[100 rows x 1 columns]"
      ]
     },
     "metadata": {},
     "output_type": "display_data"
    },
    {
     "name": "stdout",
     "output_type": "stream",
     "text": [
      "Max score:  0.7568581814480574  at  100  features\n"
     ]
    },
    {
     "data": {
      "image/png": "[encoded data removed]",
      "text/plain": [
       "<Figure size 1152x576 with 1 Axes>"
      ]
     },
     "metadata": {
      "needs_background": "light"
     },
     "output_type": "display_data"
    },
    {
     "name": "stdout",
     "output_type": "stream",
     "text": [
      "Optimal number of features:  14\n"
     ]
    },
    {
     "data": {
      "text/plain": [
       "('ASSQ,ASSQ_18',\n",
       " 'ARI_P,ARI_P_01',\n",
       " 'ARI_P,ARI_P_05',\n",
       " 'SDQ,SDQ_12',\n",
       " 'SDQ,SDQ_26',\n",
       " 'SWAN,SWAN_04',\n",
       " 'SRS,SRS_64',\n",
       " 'CBCL,CBCL_103',\n",
       " 'CBCL,CBCL_23',\n",
       " 'CBCL,CBCL_50',\n",
       " 'ICU_P,ICU_P_09',\n",
       " 'PCIAT,PCIAT_18',\n",
       " 'ESWAN,DMDD_10A',\n",
       " 'PSI,PSI_35')"
      ]
     },
     "metadata": {},
     "output_type": "display_data"
    },
    {
     "name": "stdout",
     "output_type": "stream",
     "text": [
      "Score using all features: \n",
      "CIS_P,CIS_P_Score\n",
      "r2:  0.7284095439938671\n"
     ]
    },
    {
     "data": {
      "image/png": "[encoded data removed]",
      "text/plain": [
       "<Figure size 432x288 with 1 Axes>"
      ]
     },
     "metadata": {
      "needs_background": "light"
     },
     "output_type": "display_data"
    },
    {
     "name": "stdout",
     "output_type": "stream",
     "text": [
      "R2:  0.7284095439938671\n",
      "Performance on test set using optimal number of columns: \n",
      "CIS_P,CIS_P_Score\n",
      "r2:  0.6965497631704788\n"
     ]
    },
    {
     "data": {
      "image/png": "[encoded data removed]",
      "text/plain": [
       "<Figure size 432x288 with 1 Axes>"
      ]
     },
     "metadata": {
      "needs_background": "light"
     },
     "output_type": "display_data"
    },
    {
     "name": "stdout",
     "output_type": "stream",
     "text": [
      "R2:  0.6965497631704788\n",
      "Performance on test set using number of columns with maximum score\n",
      "CIS_P,CIS_P_Score\n",
      "r2:  0.7417813496184045\n"
     ]
    },
    {
     "data": {
      "image/png": "[encoded data removed]",
      "text/plain": [
       "<Figure size 432x288 with 1 Axes>"
      ]
     },
     "metadata": {
      "needs_background": "light"
     },
     "output_type": "display_data"
    },
    {
     "name": "stdout",
     "output_type": "stream",
     "text": [
      "R2:  0.7417813496184045\n",
      "WHODAS_SR,WHODAS_SR_Score\n"
     ]
    },
    {
     "data": {
      "text/html": [
       "<div>\n",
       "<style scoped>\n",
       "    .dataframe tbody tr th:only-of-type {\n",
       "        vertical-align: middle;\n",
       "    }\n",
       "\n",
       "    .dataframe tbody tr th {\n",
       "        vertical-align: top;\n",
       "    }\n",
       "\n",
       "    .dataframe thead th {\n",
       "        text-align: right;\n",
       "    }\n",
       "</style>\n",
       "<table border=\"1\" class=\"dataframe\">\n",
       "  <thead>\n",
       "    <tr style=\"text-align: right;\">\n",
       "      <th></th>\n",
       "      <th>r2</th>\n",
       "    </tr>\n",
       "  </thead>\n",
       "  <tbody>\n",
       "    <tr>\n",
       "      <th>1</th>\n",
       "      <td>0.023636</td>\n",
       "    </tr>\n",
       "    <tr>\n",
       "      <th>2</th>\n",
       "      <td>0.043493</td>\n",
       "    </tr>\n",
       "    <tr>\n",
       "      <th>3</th>\n",
       "      <td>0.052083</td>\n",
       "    </tr>\n",
       "    <tr>\n",
       "      <th>4</th>\n",
       "      <td>0.059822</td>\n",
       "    </tr>\n",
       "    <tr>\n",
       "      <th>5</th>\n",
       "      <td>0.062507</td>\n",
       "    </tr>\n",
       "    <tr>\n",
       "      <th>...</th>\n",
       "      <td>...</td>\n",
       "    </tr>\n",
       "    <tr>\n",
       "      <th>96</th>\n",
       "      <td>0.095107</td>\n",
       "    </tr>\n",
       "    <tr>\n",
       "      <th>97</th>\n",
       "      <td>0.096638</td>\n",
       "    </tr>\n",
       "    <tr>\n",
       "      <th>98</th>\n",
       "      <td>0.096086</td>\n",
       "    </tr>\n",
       "    <tr>\n",
       "      <th>99</th>\n",
       "      <td>0.095891</td>\n",
       "    </tr>\n",
       "    <tr>\n",
       "      <th>100</th>\n",
       "      <td>0.093162</td>\n",
       "    </tr>\n",
       "  </tbody>\n",
       "</table>\n",
       "<p>100 rows × 1 columns</p>\n",
       "</div>"
      ],
      "text/plain": [
       "           r2\n",
       "1    0.023636\n",
       "2    0.043493\n",
       "3    0.052083\n",
       "4    0.059822\n",
       "5    0.062507\n",
       "..        ...\n",
       "96   0.095107\n",
       "97   0.096638\n",
       "98   0.096086\n",
       "99   0.095891\n",
       "100  0.093162\n",
       "\n",
       "[100 rows x 1 columns]"
      ]
     },
     "metadata": {},
     "output_type": "display_data"
    },
    {
     "name": "stdout",
     "output_type": "stream",
     "text": [
      "Max score:  0.10332448497746367  at  35  features\n"
     ]
    },
    {
     "data": {
      "image/png": "[encoded data removed]",
      "text/plain": [
       "<Figure size 1152x576 with 1 Axes>"
      ]
     },
     "metadata": {
      "needs_background": "light"
     },
     "output_type": "display_data"
    },
    {
     "name": "stdout",
     "output_type": "stream",
     "text": [
      "Optimal number of features:  17\n"
     ]
    },
    {
     "data": {
      "text/plain": [
       "('SympChck,CSC_08C',\n",
       " 'SympChck,CSC_11C',\n",
       " 'SympChck,CSC_55bC',\n",
       " 'SDQ,SDQ_07',\n",
       " 'SDQ,SDQ_23',\n",
       " 'SRS,SRS_14',\n",
       " 'SRS,SRS_36',\n",
       " 'SRS,SRS_49',\n",
       " 'CBCL,CBCL_12',\n",
       " 'APQ_P,APQ_P_42',\n",
       " 'PCIAT,PCIAT_16',\n",
       " 'APQ_SR,APQ_SR_07A',\n",
       " 'APQ_SR,APQ_SR_24',\n",
       " 'APQ_SR,APQ_SR_34',\n",
       " 'APQ_SR,APQ_SR_35',\n",
       " 'APQ_SR,APQ_SR_39',\n",
       " 'RBS,RBS_27')"
      ]
     },
     "metadata": {},
     "output_type": "display_data"
    },
    {
     "name": "stdout",
     "output_type": "stream",
     "text": [
      "Score using all features: \n",
      "WHODAS_SR,WHODAS_SR_Score\n",
      "r2:  0.023655425370541883\n"
     ]
    },
    {
     "data": {
      "image/png": "[encoded data removed]",
      "text/plain": [
       "<Figure size 432x288 with 1 Axes>"
      ]
     },
     "metadata": {
      "needs_background": "light"
     },
     "output_type": "display_data"
    },
    {
     "name": "stdout",
     "output_type": "stream",
     "text": [
      "R2:  0.023655425370541883\n",
      "Performance on test set using optimal number of columns: \n",
      "WHODAS_SR,WHODAS_SR_Score\n",
      "r2:  0.022096320675998316\n"
     ]
    },
    {
     "data": {
      "image/png": "[encoded data removed]",
      "text/plain": [
       "<Figure size 432x288 with 1 Axes>"
      ]
     },
     "metadata": {
      "needs_background": "light"
     },
     "output_type": "display_data"
    },
    {
     "name": "stdout",
     "output_type": "stream",
     "text": [
      "R2:  0.022096320675998316\n",
      "Performance on test set using number of columns with maximum score\n",
      "WHODAS_SR,WHODAS_SR_Score\n",
      "r2:  0.025209170721535723\n"
     ]
    },
    {
     "data": {
      "image/png": "[encoded data removed]",
      "text/plain": [
       "<Figure size 432x288 with 1 Axes>"
      ]
     },
     "metadata": {
      "needs_background": "light"
     },
     "output_type": "display_data"
    },
    {
     "name": "stdout",
     "output_type": "stream",
     "text": [
      "R2:  0.025209170721535723\n",
      "CIS_SR,CIS_SR_Total\n"
     ]
    },
    {
     "data": {
      "text/html": [
       "<div>\n",
       "<style scoped>\n",
       "    .dataframe tbody tr th:only-of-type {\n",
       "        vertical-align: middle;\n",
       "    }\n",
       "\n",
       "    .dataframe tbody tr th {\n",
       "        vertical-align: top;\n",
       "    }\n",
       "\n",
       "    .dataframe thead th {\n",
       "        text-align: right;\n",
       "    }\n",
       "</style>\n",
       "<table border=\"1\" class=\"dataframe\">\n",
       "  <thead>\n",
       "    <tr style=\"text-align: right;\">\n",
       "      <th></th>\n",
       "      <th>r2</th>\n",
       "    </tr>\n",
       "  </thead>\n",
       "  <tbody>\n",
       "    <tr>\n",
       "      <th>1</th>\n",
       "      <td>0.072888</td>\n",
       "    </tr>\n",
       "    <tr>\n",
       "      <th>2</th>\n",
       "      <td>0.100553</td>\n",
       "    </tr>\n",
       "    <tr>\n",
       "      <th>3</th>\n",
       "      <td>0.123440</td>\n",
       "    </tr>\n",
       "    <tr>\n",
       "      <th>4</th>\n",
       "      <td>0.139136</td>\n",
       "    </tr>\n",
       "    <tr>\n",
       "      <th>5</th>\n",
       "      <td>0.151987</td>\n",
       "    </tr>\n",
       "    <tr>\n",
       "      <th>...</th>\n",
       "      <td>...</td>\n",
       "    </tr>\n",
       "    <tr>\n",
       "      <th>96</th>\n",
       "      <td>0.207783</td>\n",
       "    </tr>\n",
       "    <tr>\n",
       "      <th>97</th>\n",
       "      <td>0.207783</td>\n",
       "    </tr>\n",
       "    <tr>\n",
       "      <th>98</th>\n",
       "      <td>0.207783</td>\n",
       "    </tr>\n",
       "    <tr>\n",
       "      <th>99</th>\n",
       "      <td>0.207783</td>\n",
       "    </tr>\n",
       "    <tr>\n",
       "      <th>100</th>\n",
       "      <td>0.207783</td>\n",
       "    </tr>\n",
       "  </tbody>\n",
       "</table>\n",
       "<p>100 rows × 1 columns</p>\n",
       "</div>"
      ],
      "text/plain": [
       "           r2\n",
       "1    0.072888\n",
       "2    0.100553\n",
       "3    0.123440\n",
       "4    0.139136\n",
       "5    0.151987\n",
       "..        ...\n",
       "96   0.207783\n",
       "97   0.207783\n",
       "98   0.207783\n",
       "99   0.207783\n",
       "100  0.207783\n",
       "\n",
       "[100 rows x 1 columns]"
      ]
     },
     "metadata": {},
     "output_type": "display_data"
    },
    {
     "name": "stdout",
     "output_type": "stream",
     "text": [
      "Max score:  0.20778308057755132  at  99  features\n"
     ]
    },
    {
     "data": {
      "image/png": "[encoded data removed]",
      "text/plain": [
       "<Figure size 1152x576 with 1 Axes>"
      ]
     },
     "metadata": {
      "needs_background": "light"
     },
     "output_type": "display_data"
    },
    {
     "name": "stdout",
     "output_type": "stream",
     "text": [
      "Optimal number of features:  14\n"
     ]
    },
    {
     "data": {
      "text/plain": [
       "('SympChck,CSC_47P',\n",
       " 'SDQ,SDQ_13',\n",
       " 'SDQ,SDQ_24',\n",
       " 'CBCL,CBCL_23',\n",
       " 'MFQ_P,MFQ_P_15',\n",
       " 'MFQ_P,MFQ_P_29',\n",
       " 'APQ_SR,APQ_SR_02',\n",
       " 'APQ_SR,APQ_SR_07A',\n",
       " 'APQ_SR,APQ_SR_12',\n",
       " 'APQ_SR,APQ_SR_31',\n",
       " 'APQ_SR,APQ_SR_33',\n",
       " 'APQ_SR,APQ_SR_35',\n",
       " 'APQ_SR,APQ_SR_37',\n",
       " 'APQ_SR,APQ_SR_39')"
      ]
     },
     "metadata": {},
     "output_type": "display_data"
    },
    {
     "name": "stdout",
     "output_type": "stream",
     "text": [
      "Score using all features: \n",
      "CIS_SR,CIS_SR_Total\n",
      "r2:  0.1958002001573116\n"
     ]
    },
    {
     "data": {
      "image/png": "[encoded data removed]",
      "text/plain": [
       "<Figure size 432x288 with 1 Axes>"
      ]
     },
     "metadata": {
      "needs_background": "light"
     },
     "output_type": "display_data"
    },
    {
     "name": "stdout",
     "output_type": "stream",
     "text": [
      "R2:  0.1958002001573116\n",
      "Performance on test set using optimal number of columns: \n",
      "CIS_SR,CIS_SR_Total\n",
      "r2:  0.1957896692346982\n"
     ]
    },
    {
     "data": {
      "image/png": "[encoded data removed]",
      "text/plain": [
       "<Figure size 432x288 with 1 Axes>"
      ]
     },
     "metadata": {
      "needs_background": "light"
     },
     "output_type": "display_data"
    },
    {
     "name": "stdout",
     "output_type": "stream",
     "text": [
      "R2:  0.1957896692346982\n",
      "Performance on test set using number of columns with maximum score\n",
      "CIS_SR,CIS_SR_Total\n",
      "r2:  0.20680739503203183\n"
     ]
    },
    {
     "data": {
      "image/png": "[encoded data removed]",
      "text/plain": [
       "<Figure size 432x288 with 1 Axes>"
      ]
     },
     "metadata": {
      "needs_background": "light"
     },
     "output_type": "display_data"
    },
    {
     "name": "stdout",
     "output_type": "stream",
     "text": [
      "R2:  0.20680739503203183\n"
     ]
    }
   ],
   "source": [
    "# Print sfs results\n",
    "for output in output_cols:\n",
    "    print(output)\n",
    "    \n",
    "    features_up_to_optimal, features_up_to_max_score = analyze_importances(forward_feature_objects[output].subsets_)\n",
    "    features_up_to_optimal = list(features_up_to_optimal)\n",
    "    features_up_to_max_score = list(features_up_to_max_score)\n",
    "    \n",
    "    # Test both subsets on test set\n",
    "    estimator = best_estimators[output]\n",
    "    \n",
    "    # All features\n",
    "    # Create new pipeline with the same params (need to re-train the imputer on less features)\n",
    "    new_estimator = make_pipeline(SimpleImputer(missing_values=np.nan, strategy='median'), StandardScaler(), estimator[2])\n",
    "    new_estimator.fit(train_set[input_cols], train_set[output])\n",
    "    print(\"Score using all features: \")\n",
    "    metrics = get_metrics(new_estimator, output, input_cols, 'test', 1)\n",
    "    print(\"R2: \", metrics[metric_names.index(\"r2\")])\n",
    "    \n",
    "    # Create new pipeline with the same params (need to re-train the imputer on less features)\n",
    "    new_estimator = make_pipeline(SimpleImputer(missing_values=np.nan, strategy='median'), StandardScaler(), estimator[2])\n",
    "    new_estimator.fit(train_set[features_up_to_optimal], train_set[output])\n",
    "    print(\"Performance on test set using optimal number of columns: \")\n",
    "    metrics = get_metrics(new_estimator, output, features_up_to_optimal, 'test', 1)\n",
    "    print(\"R2: \", metrics[metric_names.index(\"r2\")])\n",
    "\n",
    "    # Create new pipeline with the same params (need to re-train the imputer on less features)\n",
    "    new_estimator = make_pipeline(SimpleImputer(missing_values=np.nan, strategy='median'), StandardScaler(), estimator[2])\n",
    "    new_estimator.fit(train_set[features_up_to_max_score], train_set[output])\n",
    "    print(\"Performance on test set using number of columns with maximum score\")\n",
    "    metrics = get_metrics(new_estimator, output, features_up_to_max_score, 'test', 1)\n",
    "    print(\"R2: \", metrics[metric_names.index(\"r2\")])"
   ]
  }
 ],
 "metadata": {
  "kernelspec": {
   "display_name": "main",
   "language": "python",
   "name": "main"
  },
  "language_info": {
   "codemirror_mode": {
    "name": "ipython",
    "version": 3
   },
   "file_extension": ".py",
   "mimetype": "text/x-python",
   "name": "python",
   "nbconvert_exporter": "python",
   "pygments_lexer": "ipython3",
   "version": "3.10.4"
  }
 },
 "nbformat": 4,
 "nbformat_minor": 5
}
